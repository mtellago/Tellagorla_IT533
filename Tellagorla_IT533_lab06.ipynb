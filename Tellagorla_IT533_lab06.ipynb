{
  "nbformat": 4,
  "nbformat_minor": 0,
  "metadata": {
    "colab": {
      "name": "Tellagorla_IT533_lab06.ipynb",
      "provenance": [],
      "collapsed_sections": []
    },
    "kernelspec": {
      "name": "python3",
      "display_name": "Python 3"
    },
    "language_info": {
      "name": "python"
    }
  },
  "cells": [
    {
      "cell_type": "code",
      "execution_count": null,
      "metadata": {
        "colab": {
          "base_uri": "https://localhost:8080/",
          "height": 530
        },
        "id": "7xL4Qmp3ZCeF",
        "outputId": "30f0ad43-d181-4f1a-b42c-b05478059fc7"
      },
      "outputs": [
        {
          "output_type": "execute_result",
          "data": {
            "text/plain": [
              "                            uniq_id  \\\n",
              "0  dafc6b4ba4b4a3e7b4ff83402a196ae8   \n",
              "1  ba85fb9368114fce646379ed12750a5f   \n",
              "2  14e24c29ba38c2717754baa2638f242a   \n",
              "4  7b72f597db5d74d35c4f91ef69708cf1   \n",
              "5  7b8a04095b5e4984c57fd45eb327feb1   \n",
              "\n",
              "                                        product_name  \\\n",
              "0                                      Dinosaur Eggs   \n",
              "1   Neopets 4 Trading Card Fun Packs (2 Bonus Cards)   \n",
              "2          Latex Assorted Water Balloons, Pack of 40   \n",
              "4  4 Packs of Mini Colouring Pencils (4 pencils i...   \n",
              "5  100 Deep Red Rose Silk Petals Confetti - Weddi...   \n",
              "\n",
              "               manufacturer  price  number_available_in_stock status  \\\n",
              "0                   Halsall   0.29                          3    new   \n",
              "1                   Neopets   0.38                          2    new   \n",
              "2              Unique Party   0.39                          7    new   \n",
              "4  unisex party bag fillers   0.60                          7    new   \n",
              "5                   Shatchi   0.64                          6    new   \n",
              "\n",
              "   number_of_reviews  number_of_answered_questions  \\\n",
              "0                  3                             2   \n",
              "1                  2                             1   \n",
              "2                  2                             1   \n",
              "4                 21                             1   \n",
              "5                 10                             2   \n",
              "\n",
              "   average_review_rating_of_5  \\\n",
              "0                         4.0   \n",
              "1                         4.5   \n",
              "2                         4.5   \n",
              "4                         4.3   \n",
              "5                         4.1   \n",
              "\n",
              "                    amazon_category_and_sub_category  \\\n",
              "0                     Figures & Playsets > Dinosaurs   \n",
              "1  Hobbies > Trading Cards & Accessories > Packs ...   \n",
              "2            Party Supplies > Decorations > Balloons   \n",
              "4                  Arts & Crafts > Colouring Pencils   \n",
              "5  Party Supplies > Banners, Stickers & Confetti ...   \n",
              "\n",
              "          customers_who_bought_this_item_also_bought  \\\n",
              "0  http://www.amazon.co.uk/Hatch-em-TY63-Hatching...   \n",
              "1                                            Unknown   \n",
              "2  http://www.amazon.co.uk/Latex-Cannonball | htt...   \n",
              "4  http://www.amazon.co.uk/12-Mini-Christmas-Colo...   \n",
              "5  http://www.amazon.co.uk/Valentines | http://ww...   \n",
              "\n",
              "                                         description  \\\n",
              "0           Manufacturer's Description not available   \n",
              "1           Manufacturer's Description not available   \n",
              "2  Colour Name:Assorted Bold  |  Size Name:Pack o...   \n",
              "4  4 x Mini Colouring Pencils - Pack of 4 Size: 8...   \n",
              "5  Pack of 100 Deep Red Silk Rose Petals Luxury s...   \n",
              "\n",
              "                                 product_information  \\\n",
              "0  Technical Details Item Weight82 g Product Dime...   \n",
              "1  Technical Details Item Weight454 g Product Dim...   \n",
              "2  Technical Details Item Weight222 g Product Dim...   \n",
              "4  Technical Details Item Weight59 g Product Dime...   \n",
              "5  Technical Details Manufacturer recommended age...   \n",
              "\n",
              "                                 product_description  \\\n",
              "0                                      Not available   \n",
              "1                                      Not available   \n",
              "2  Colour Name:Assorted Bold  |  Size Name:Pack o...   \n",
              "4  4 x Mini Colouring Pencils - Pack of 4 Size: 8...   \n",
              "5  Pack of 100 Deep Red Silk Rose Petals Luxury s...   \n",
              "\n",
              "         items_customers_buy_after_viewing_this_item  \\\n",
              "0  http://www.amazon.co.uk/Hatch-em-TY63-Hatching...   \n",
              "1                                      Not available   \n",
              "2  http://www.amazon.co.uk/Water-Bombs-Pack-100-A...   \n",
              "4  http://www.amazon.co.uk/20-Packs-Wax-Crayons-P...   \n",
              "5  http://www.amazon.co.uk/300-Deep-Silk-Rose-Pet...   \n",
              "\n",
              "                      customer_questions_and_answers  \\\n",
              "0                                               None   \n",
              "1                                               None   \n",
              "2                                               None   \n",
              "4  How many packs in the box. // I got four Mimi ...   \n",
              "5                                               None   \n",
              "\n",
              "                                    customer_reviews  \n",
              "0  Fascinating fun // 4.0 // 25 Nov. 2008 // By\\n...  \n",
              "1  Never Too Old // 4.0 // 6 Nov. 2013 // By\\n   ...  \n",
              "2  Great item // 4.0 // 27 Dec. 2015 // By\\n    \\...  \n",
              "4  Well made and presented // 4.0 // 6 April 2015...  \n",
              "5  Five Stars // 5.0 // 2 Dec. 2015 // By\\n    \\n...  "
            ],
            "text/html": [
              "\n",
              "  <div id=\"df-387c0e05-78a2-44a0-a0bb-e2f994da2135\">\n",
              "    <div class=\"colab-df-container\">\n",
              "      <div>\n",
              "<style scoped>\n",
              "    .dataframe tbody tr th:only-of-type {\n",
              "        vertical-align: middle;\n",
              "    }\n",
              "\n",
              "    .dataframe tbody tr th {\n",
              "        vertical-align: top;\n",
              "    }\n",
              "\n",
              "    .dataframe thead th {\n",
              "        text-align: right;\n",
              "    }\n",
              "</style>\n",
              "<table border=\"1\" class=\"dataframe\">\n",
              "  <thead>\n",
              "    <tr style=\"text-align: right;\">\n",
              "      <th></th>\n",
              "      <th>uniq_id</th>\n",
              "      <th>product_name</th>\n",
              "      <th>manufacturer</th>\n",
              "      <th>price</th>\n",
              "      <th>number_available_in_stock</th>\n",
              "      <th>status</th>\n",
              "      <th>number_of_reviews</th>\n",
              "      <th>number_of_answered_questions</th>\n",
              "      <th>average_review_rating_of_5</th>\n",
              "      <th>amazon_category_and_sub_category</th>\n",
              "      <th>customers_who_bought_this_item_also_bought</th>\n",
              "      <th>description</th>\n",
              "      <th>product_information</th>\n",
              "      <th>product_description</th>\n",
              "      <th>items_customers_buy_after_viewing_this_item</th>\n",
              "      <th>customer_questions_and_answers</th>\n",
              "      <th>customer_reviews</th>\n",
              "    </tr>\n",
              "  </thead>\n",
              "  <tbody>\n",
              "    <tr>\n",
              "      <th>0</th>\n",
              "      <td>dafc6b4ba4b4a3e7b4ff83402a196ae8</td>\n",
              "      <td>Dinosaur Eggs</td>\n",
              "      <td>Halsall</td>\n",
              "      <td>0.29</td>\n",
              "      <td>3</td>\n",
              "      <td>new</td>\n",
              "      <td>3</td>\n",
              "      <td>2</td>\n",
              "      <td>4.0</td>\n",
              "      <td>Figures &amp; Playsets &gt; Dinosaurs</td>\n",
              "      <td>http://www.amazon.co.uk/Hatch-em-TY63-Hatching...</td>\n",
              "      <td>Manufacturer's Description not available</td>\n",
              "      <td>Technical Details Item Weight82 g Product Dime...</td>\n",
              "      <td>Not available</td>\n",
              "      <td>http://www.amazon.co.uk/Hatch-em-TY63-Hatching...</td>\n",
              "      <td>None</td>\n",
              "      <td>Fascinating fun // 4.0 // 25 Nov. 2008 // By\\n...</td>\n",
              "    </tr>\n",
              "    <tr>\n",
              "      <th>1</th>\n",
              "      <td>ba85fb9368114fce646379ed12750a5f</td>\n",
              "      <td>Neopets 4 Trading Card Fun Packs (2 Bonus Cards)</td>\n",
              "      <td>Neopets</td>\n",
              "      <td>0.38</td>\n",
              "      <td>2</td>\n",
              "      <td>new</td>\n",
              "      <td>2</td>\n",
              "      <td>1</td>\n",
              "      <td>4.5</td>\n",
              "      <td>Hobbies &gt; Trading Cards &amp; Accessories &gt; Packs ...</td>\n",
              "      <td>Unknown</td>\n",
              "      <td>Manufacturer's Description not available</td>\n",
              "      <td>Technical Details Item Weight454 g Product Dim...</td>\n",
              "      <td>Not available</td>\n",
              "      <td>Not available</td>\n",
              "      <td>None</td>\n",
              "      <td>Never Too Old // 4.0 // 6 Nov. 2013 // By\\n   ...</td>\n",
              "    </tr>\n",
              "    <tr>\n",
              "      <th>2</th>\n",
              "      <td>14e24c29ba38c2717754baa2638f242a</td>\n",
              "      <td>Latex Assorted Water Balloons, Pack of 40</td>\n",
              "      <td>Unique Party</td>\n",
              "      <td>0.39</td>\n",
              "      <td>7</td>\n",
              "      <td>new</td>\n",
              "      <td>2</td>\n",
              "      <td>1</td>\n",
              "      <td>4.5</td>\n",
              "      <td>Party Supplies &gt; Decorations &gt; Balloons</td>\n",
              "      <td>http://www.amazon.co.uk/Latex-Cannonball | htt...</td>\n",
              "      <td>Colour Name:Assorted Bold  |  Size Name:Pack o...</td>\n",
              "      <td>Technical Details Item Weight222 g Product Dim...</td>\n",
              "      <td>Colour Name:Assorted Bold  |  Size Name:Pack o...</td>\n",
              "      <td>http://www.amazon.co.uk/Water-Bombs-Pack-100-A...</td>\n",
              "      <td>None</td>\n",
              "      <td>Great item // 4.0 // 27 Dec. 2015 // By\\n    \\...</td>\n",
              "    </tr>\n",
              "    <tr>\n",
              "      <th>4</th>\n",
              "      <td>7b72f597db5d74d35c4f91ef69708cf1</td>\n",
              "      <td>4 Packs of Mini Colouring Pencils (4 pencils i...</td>\n",
              "      <td>unisex party bag fillers</td>\n",
              "      <td>0.60</td>\n",
              "      <td>7</td>\n",
              "      <td>new</td>\n",
              "      <td>21</td>\n",
              "      <td>1</td>\n",
              "      <td>4.3</td>\n",
              "      <td>Arts &amp; Crafts &gt; Colouring Pencils</td>\n",
              "      <td>http://www.amazon.co.uk/12-Mini-Christmas-Colo...</td>\n",
              "      <td>4 x Mini Colouring Pencils - Pack of 4 Size: 8...</td>\n",
              "      <td>Technical Details Item Weight59 g Product Dime...</td>\n",
              "      <td>4 x Mini Colouring Pencils - Pack of 4 Size: 8...</td>\n",
              "      <td>http://www.amazon.co.uk/20-Packs-Wax-Crayons-P...</td>\n",
              "      <td>How many packs in the box. // I got four Mimi ...</td>\n",
              "      <td>Well made and presented // 4.0 // 6 April 2015...</td>\n",
              "    </tr>\n",
              "    <tr>\n",
              "      <th>5</th>\n",
              "      <td>7b8a04095b5e4984c57fd45eb327feb1</td>\n",
              "      <td>100 Deep Red Rose Silk Petals Confetti - Weddi...</td>\n",
              "      <td>Shatchi</td>\n",
              "      <td>0.64</td>\n",
              "      <td>6</td>\n",
              "      <td>new</td>\n",
              "      <td>10</td>\n",
              "      <td>2</td>\n",
              "      <td>4.1</td>\n",
              "      <td>Party Supplies &gt; Banners, Stickers &amp; Confetti ...</td>\n",
              "      <td>http://www.amazon.co.uk/Valentines | http://ww...</td>\n",
              "      <td>Pack of 100 Deep Red Silk Rose Petals Luxury s...</td>\n",
              "      <td>Technical Details Manufacturer recommended age...</td>\n",
              "      <td>Pack of 100 Deep Red Silk Rose Petals Luxury s...</td>\n",
              "      <td>http://www.amazon.co.uk/300-Deep-Silk-Rose-Pet...</td>\n",
              "      <td>None</td>\n",
              "      <td>Five Stars // 5.0 // 2 Dec. 2015 // By\\n    \\n...</td>\n",
              "    </tr>\n",
              "  </tbody>\n",
              "</table>\n",
              "</div>\n",
              "      <button class=\"colab-df-convert\" onclick=\"convertToInteractive('df-387c0e05-78a2-44a0-a0bb-e2f994da2135')\"\n",
              "              title=\"Convert this dataframe to an interactive table.\"\n",
              "              style=\"display:none;\">\n",
              "        \n",
              "  <svg xmlns=\"http://www.w3.org/2000/svg\" height=\"24px\"viewBox=\"0 0 24 24\"\n",
              "       width=\"24px\">\n",
              "    <path d=\"M0 0h24v24H0V0z\" fill=\"none\"/>\n",
              "    <path d=\"M18.56 5.44l.94 2.06.94-2.06 2.06-.94-2.06-.94-.94-2.06-.94 2.06-2.06.94zm-11 1L8.5 8.5l.94-2.06 2.06-.94-2.06-.94L8.5 2.5l-.94 2.06-2.06.94zm10 10l.94 2.06.94-2.06 2.06-.94-2.06-.94-.94-2.06-.94 2.06-2.06.94z\"/><path d=\"M17.41 7.96l-1.37-1.37c-.4-.4-.92-.59-1.43-.59-.52 0-1.04.2-1.43.59L10.3 9.45l-7.72 7.72c-.78.78-.78 2.05 0 2.83L4 21.41c.39.39.9.59 1.41.59.51 0 1.02-.2 1.41-.59l7.78-7.78 2.81-2.81c.8-.78.8-2.07 0-2.86zM5.41 20L4 18.59l7.72-7.72 1.47 1.35L5.41 20z\"/>\n",
              "  </svg>\n",
              "      </button>\n",
              "      \n",
              "  <style>\n",
              "    .colab-df-container {\n",
              "      display:flex;\n",
              "      flex-wrap:wrap;\n",
              "      gap: 12px;\n",
              "    }\n",
              "\n",
              "    .colab-df-convert {\n",
              "      background-color: #E8F0FE;\n",
              "      border: none;\n",
              "      border-radius: 50%;\n",
              "      cursor: pointer;\n",
              "      display: none;\n",
              "      fill: #1967D2;\n",
              "      height: 32px;\n",
              "      padding: 0 0 0 0;\n",
              "      width: 32px;\n",
              "    }\n",
              "\n",
              "    .colab-df-convert:hover {\n",
              "      background-color: #E2EBFA;\n",
              "      box-shadow: 0px 1px 2px rgba(60, 64, 67, 0.3), 0px 1px 3px 1px rgba(60, 64, 67, 0.15);\n",
              "      fill: #174EA6;\n",
              "    }\n",
              "\n",
              "    [theme=dark] .colab-df-convert {\n",
              "      background-color: #3B4455;\n",
              "      fill: #D2E3FC;\n",
              "    }\n",
              "\n",
              "    [theme=dark] .colab-df-convert:hover {\n",
              "      background-color: #434B5C;\n",
              "      box-shadow: 0px 1px 3px 1px rgba(0, 0, 0, 0.15);\n",
              "      filter: drop-shadow(0px 1px 2px rgba(0, 0, 0, 0.3));\n",
              "      fill: #FFFFFF;\n",
              "    }\n",
              "  </style>\n",
              "\n",
              "      <script>\n",
              "        const buttonEl =\n",
              "          document.querySelector('#df-387c0e05-78a2-44a0-a0bb-e2f994da2135 button.colab-df-convert');\n",
              "        buttonEl.style.display =\n",
              "          google.colab.kernel.accessAllowed ? 'block' : 'none';\n",
              "\n",
              "        async function convertToInteractive(key) {\n",
              "          const element = document.querySelector('#df-387c0e05-78a2-44a0-a0bb-e2f994da2135');\n",
              "          const dataTable =\n",
              "            await google.colab.kernel.invokeFunction('convertToInteractive',\n",
              "                                                     [key], {});\n",
              "          if (!dataTable) return;\n",
              "\n",
              "          const docLinkHtml = 'Like what you see? Visit the ' +\n",
              "            '<a target=\"_blank\" href=https://colab.research.google.com/notebooks/data_table.ipynb>data table notebook</a>'\n",
              "            + ' to learn more about interactive tables.';\n",
              "          element.innerHTML = '';\n",
              "          dataTable['output_type'] = 'display_data';\n",
              "          await google.colab.output.renderOutput(dataTable, element);\n",
              "          const docLink = document.createElement('div');\n",
              "          docLink.innerHTML = docLinkHtml;\n",
              "          element.appendChild(docLink);\n",
              "        }\n",
              "      </script>\n",
              "    </div>\n",
              "  </div>\n",
              "  "
            ]
          },
          "metadata": {},
          "execution_count": 4
        }
      ],
      "source": [
        "#Import the necessary libraries. \n",
        "import numpy as np\n",
        "import pandas as pd \n",
        "import matplotlib.pyplot as plt\n",
        "from scipy import spatial\n",
        "import statsmodels.api as sm\n",
        "from sklearn.ensemble import RandomForestClassifier\n",
        "from sklearn.model_selection import train_test_split\n",
        "from sklearn.metrics import accuracy_score\n",
        "import warnings\n",
        "warnings.filterwarnings(\"ignore\")\n",
        "np.random.seed(42) \n",
        "amazon = pd.read_csv(\"https://raw.githubusercontent.com/shstreuber/Data-Mining/master/data/amazon_toy_sample_clean.csv\", encoding=\"ISO-8859-1\") # USE YOUR OWN GITHUB PATH HERE\n",
        "amazon.dropna(inplace=True)\n",
        "amazon.head()\n"
      ]
    },
    {
      "cell_type": "code",
      "source": [
        "amazon2 = amazon[['price','number_available_in_stock','number_of_reviews','number_of_answered_questions','average_review_rating_of_5']]"
      ],
      "metadata": {
        "id": "eV44RDOWap7y"
      },
      "execution_count": null,
      "outputs": []
    },
    {
      "cell_type": "code",
      "source": [
        "amazon2.head()"
      ],
      "metadata": {
        "colab": {
          "base_uri": "https://localhost:8080/",
          "height": 214
        },
        "id": "BvH9zQPkcKcg",
        "outputId": "20b50e04-69d0-43b4-ef6d-d5e055638b32"
      },
      "execution_count": null,
      "outputs": [
        {
          "output_type": "execute_result",
          "data": {
            "text/plain": [
              "   price  number_available_in_stock  number_of_reviews  \\\n",
              "0   0.29                          3                  3   \n",
              "1   0.38                          2                  2   \n",
              "2   0.39                          7                  2   \n",
              "4   0.60                          7                 21   \n",
              "5   0.64                          6                 10   \n",
              "\n",
              "   number_of_answered_questions  average_review_rating_of_5  \n",
              "0                             2                         4.0  \n",
              "1                             1                         4.5  \n",
              "2                             1                         4.5  \n",
              "4                             1                         4.3  \n",
              "5                             2                         4.1  "
            ],
            "text/html": [
              "\n",
              "  <div id=\"df-8d358146-b2e2-43db-abf1-734037476da0\">\n",
              "    <div class=\"colab-df-container\">\n",
              "      <div>\n",
              "<style scoped>\n",
              "    .dataframe tbody tr th:only-of-type {\n",
              "        vertical-align: middle;\n",
              "    }\n",
              "\n",
              "    .dataframe tbody tr th {\n",
              "        vertical-align: top;\n",
              "    }\n",
              "\n",
              "    .dataframe thead th {\n",
              "        text-align: right;\n",
              "    }\n",
              "</style>\n",
              "<table border=\"1\" class=\"dataframe\">\n",
              "  <thead>\n",
              "    <tr style=\"text-align: right;\">\n",
              "      <th></th>\n",
              "      <th>price</th>\n",
              "      <th>number_available_in_stock</th>\n",
              "      <th>number_of_reviews</th>\n",
              "      <th>number_of_answered_questions</th>\n",
              "      <th>average_review_rating_of_5</th>\n",
              "    </tr>\n",
              "  </thead>\n",
              "  <tbody>\n",
              "    <tr>\n",
              "      <th>0</th>\n",
              "      <td>0.29</td>\n",
              "      <td>3</td>\n",
              "      <td>3</td>\n",
              "      <td>2</td>\n",
              "      <td>4.0</td>\n",
              "    </tr>\n",
              "    <tr>\n",
              "      <th>1</th>\n",
              "      <td>0.38</td>\n",
              "      <td>2</td>\n",
              "      <td>2</td>\n",
              "      <td>1</td>\n",
              "      <td>4.5</td>\n",
              "    </tr>\n",
              "    <tr>\n",
              "      <th>2</th>\n",
              "      <td>0.39</td>\n",
              "      <td>7</td>\n",
              "      <td>2</td>\n",
              "      <td>1</td>\n",
              "      <td>4.5</td>\n",
              "    </tr>\n",
              "    <tr>\n",
              "      <th>4</th>\n",
              "      <td>0.60</td>\n",
              "      <td>7</td>\n",
              "      <td>21</td>\n",
              "      <td>1</td>\n",
              "      <td>4.3</td>\n",
              "    </tr>\n",
              "    <tr>\n",
              "      <th>5</th>\n",
              "      <td>0.64</td>\n",
              "      <td>6</td>\n",
              "      <td>10</td>\n",
              "      <td>2</td>\n",
              "      <td>4.1</td>\n",
              "    </tr>\n",
              "  </tbody>\n",
              "</table>\n",
              "</div>\n",
              "      <button class=\"colab-df-convert\" onclick=\"convertToInteractive('df-8d358146-b2e2-43db-abf1-734037476da0')\"\n",
              "              title=\"Convert this dataframe to an interactive table.\"\n",
              "              style=\"display:none;\">\n",
              "        \n",
              "  <svg xmlns=\"http://www.w3.org/2000/svg\" height=\"24px\"viewBox=\"0 0 24 24\"\n",
              "       width=\"24px\">\n",
              "    <path d=\"M0 0h24v24H0V0z\" fill=\"none\"/>\n",
              "    <path d=\"M18.56 5.44l.94 2.06.94-2.06 2.06-.94-2.06-.94-.94-2.06-.94 2.06-2.06.94zm-11 1L8.5 8.5l.94-2.06 2.06-.94-2.06-.94L8.5 2.5l-.94 2.06-2.06.94zm10 10l.94 2.06.94-2.06 2.06-.94-2.06-.94-.94-2.06-.94 2.06-2.06.94z\"/><path d=\"M17.41 7.96l-1.37-1.37c-.4-.4-.92-.59-1.43-.59-.52 0-1.04.2-1.43.59L10.3 9.45l-7.72 7.72c-.78.78-.78 2.05 0 2.83L4 21.41c.39.39.9.59 1.41.59.51 0 1.02-.2 1.41-.59l7.78-7.78 2.81-2.81c.8-.78.8-2.07 0-2.86zM5.41 20L4 18.59l7.72-7.72 1.47 1.35L5.41 20z\"/>\n",
              "  </svg>\n",
              "      </button>\n",
              "      \n",
              "  <style>\n",
              "    .colab-df-container {\n",
              "      display:flex;\n",
              "      flex-wrap:wrap;\n",
              "      gap: 12px;\n",
              "    }\n",
              "\n",
              "    .colab-df-convert {\n",
              "      background-color: #E8F0FE;\n",
              "      border: none;\n",
              "      border-radius: 50%;\n",
              "      cursor: pointer;\n",
              "      display: none;\n",
              "      fill: #1967D2;\n",
              "      height: 32px;\n",
              "      padding: 0 0 0 0;\n",
              "      width: 32px;\n",
              "    }\n",
              "\n",
              "    .colab-df-convert:hover {\n",
              "      background-color: #E2EBFA;\n",
              "      box-shadow: 0px 1px 2px rgba(60, 64, 67, 0.3), 0px 1px 3px 1px rgba(60, 64, 67, 0.15);\n",
              "      fill: #174EA6;\n",
              "    }\n",
              "\n",
              "    [theme=dark] .colab-df-convert {\n",
              "      background-color: #3B4455;\n",
              "      fill: #D2E3FC;\n",
              "    }\n",
              "\n",
              "    [theme=dark] .colab-df-convert:hover {\n",
              "      background-color: #434B5C;\n",
              "      box-shadow: 0px 1px 3px 1px rgba(0, 0, 0, 0.15);\n",
              "      filter: drop-shadow(0px 1px 2px rgba(0, 0, 0, 0.3));\n",
              "      fill: #FFFFFF;\n",
              "    }\n",
              "  </style>\n",
              "\n",
              "      <script>\n",
              "        const buttonEl =\n",
              "          document.querySelector('#df-8d358146-b2e2-43db-abf1-734037476da0 button.colab-df-convert');\n",
              "        buttonEl.style.display =\n",
              "          google.colab.kernel.accessAllowed ? 'block' : 'none';\n",
              "\n",
              "        async function convertToInteractive(key) {\n",
              "          const element = document.querySelector('#df-8d358146-b2e2-43db-abf1-734037476da0');\n",
              "          const dataTable =\n",
              "            await google.colab.kernel.invokeFunction('convertToInteractive',\n",
              "                                                     [key], {});\n",
              "          if (!dataTable) return;\n",
              "\n",
              "          const docLinkHtml = 'Like what you see? Visit the ' +\n",
              "            '<a target=\"_blank\" href=https://colab.research.google.com/notebooks/data_table.ipynb>data table notebook</a>'\n",
              "            + ' to learn more about interactive tables.';\n",
              "          element.innerHTML = '';\n",
              "          dataTable['output_type'] = 'display_data';\n",
              "          await google.colab.output.renderOutput(dataTable, element);\n",
              "          const docLink = document.createElement('div');\n",
              "          docLink.innerHTML = docLinkHtml;\n",
              "          element.appendChild(docLink);\n",
              "        }\n",
              "      </script>\n",
              "    </div>\n",
              "  </div>\n",
              "  "
            ]
          },
          "metadata": {},
          "execution_count": 8
        }
      ]
    },
    {
      "cell_type": "code",
      "source": [
        "buckets = [ 0, 2, 4, 5]\n",
        "bucketlabels = ['Low', 'Medium', 'High']\n",
        "\n",
        "# Using cut() to separate data into the buckets we have built\n",
        "amazon2['buckets'] = pd.cut(amazon2['average_review_rating_of_5'] , bins=buckets, labels=bucketlabels, include_lowest=True)\n",
        "\n",
        "# Check if we have the new attribute 'buckets' at the end of our dataset\n",
        "amazon2.head()"
      ],
      "metadata": {
        "colab": {
          "base_uri": "https://localhost:8080/",
          "height": 206
        },
        "id": "SjVqTUejcoYH",
        "outputId": "152c8066-fb54-4300-c5e0-957b295e816e"
      },
      "execution_count": null,
      "outputs": [
        {
          "output_type": "execute_result",
          "data": {
            "text/plain": [
              "   price  number_available_in_stock  number_of_reviews  \\\n",
              "0   0.29                          3                  3   \n",
              "1   0.38                          2                  2   \n",
              "2   0.39                          7                  2   \n",
              "4   0.60                          7                 21   \n",
              "5   0.64                          6                 10   \n",
              "\n",
              "   number_of_answered_questions  average_review_rating_of_5 buckets  \n",
              "0                             2                         4.0  Medium  \n",
              "1                             1                         4.5    High  \n",
              "2                             1                         4.5    High  \n",
              "4                             1                         4.3    High  \n",
              "5                             2                         4.1    High  "
            ],
            "text/html": [
              "\n",
              "  <div id=\"df-8826353c-35ea-4a1a-abd9-7845df87b59a\">\n",
              "    <div class=\"colab-df-container\">\n",
              "      <div>\n",
              "<style scoped>\n",
              "    .dataframe tbody tr th:only-of-type {\n",
              "        vertical-align: middle;\n",
              "    }\n",
              "\n",
              "    .dataframe tbody tr th {\n",
              "        vertical-align: top;\n",
              "    }\n",
              "\n",
              "    .dataframe thead th {\n",
              "        text-align: right;\n",
              "    }\n",
              "</style>\n",
              "<table border=\"1\" class=\"dataframe\">\n",
              "  <thead>\n",
              "    <tr style=\"text-align: right;\">\n",
              "      <th></th>\n",
              "      <th>price</th>\n",
              "      <th>number_available_in_stock</th>\n",
              "      <th>number_of_reviews</th>\n",
              "      <th>number_of_answered_questions</th>\n",
              "      <th>average_review_rating_of_5</th>\n",
              "      <th>buckets</th>\n",
              "    </tr>\n",
              "  </thead>\n",
              "  <tbody>\n",
              "    <tr>\n",
              "      <th>0</th>\n",
              "      <td>0.29</td>\n",
              "      <td>3</td>\n",
              "      <td>3</td>\n",
              "      <td>2</td>\n",
              "      <td>4.0</td>\n",
              "      <td>Medium</td>\n",
              "    </tr>\n",
              "    <tr>\n",
              "      <th>1</th>\n",
              "      <td>0.38</td>\n",
              "      <td>2</td>\n",
              "      <td>2</td>\n",
              "      <td>1</td>\n",
              "      <td>4.5</td>\n",
              "      <td>High</td>\n",
              "    </tr>\n",
              "    <tr>\n",
              "      <th>2</th>\n",
              "      <td>0.39</td>\n",
              "      <td>7</td>\n",
              "      <td>2</td>\n",
              "      <td>1</td>\n",
              "      <td>4.5</td>\n",
              "      <td>High</td>\n",
              "    </tr>\n",
              "    <tr>\n",
              "      <th>4</th>\n",
              "      <td>0.60</td>\n",
              "      <td>7</td>\n",
              "      <td>21</td>\n",
              "      <td>1</td>\n",
              "      <td>4.3</td>\n",
              "      <td>High</td>\n",
              "    </tr>\n",
              "    <tr>\n",
              "      <th>5</th>\n",
              "      <td>0.64</td>\n",
              "      <td>6</td>\n",
              "      <td>10</td>\n",
              "      <td>2</td>\n",
              "      <td>4.1</td>\n",
              "      <td>High</td>\n",
              "    </tr>\n",
              "  </tbody>\n",
              "</table>\n",
              "</div>\n",
              "      <button class=\"colab-df-convert\" onclick=\"convertToInteractive('df-8826353c-35ea-4a1a-abd9-7845df87b59a')\"\n",
              "              title=\"Convert this dataframe to an interactive table.\"\n",
              "              style=\"display:none;\">\n",
              "        \n",
              "  <svg xmlns=\"http://www.w3.org/2000/svg\" height=\"24px\"viewBox=\"0 0 24 24\"\n",
              "       width=\"24px\">\n",
              "    <path d=\"M0 0h24v24H0V0z\" fill=\"none\"/>\n",
              "    <path d=\"M18.56 5.44l.94 2.06.94-2.06 2.06-.94-2.06-.94-.94-2.06-.94 2.06-2.06.94zm-11 1L8.5 8.5l.94-2.06 2.06-.94-2.06-.94L8.5 2.5l-.94 2.06-2.06.94zm10 10l.94 2.06.94-2.06 2.06-.94-2.06-.94-.94-2.06-.94 2.06-2.06.94z\"/><path d=\"M17.41 7.96l-1.37-1.37c-.4-.4-.92-.59-1.43-.59-.52 0-1.04.2-1.43.59L10.3 9.45l-7.72 7.72c-.78.78-.78 2.05 0 2.83L4 21.41c.39.39.9.59 1.41.59.51 0 1.02-.2 1.41-.59l7.78-7.78 2.81-2.81c.8-.78.8-2.07 0-2.86zM5.41 20L4 18.59l7.72-7.72 1.47 1.35L5.41 20z\"/>\n",
              "  </svg>\n",
              "      </button>\n",
              "      \n",
              "  <style>\n",
              "    .colab-df-container {\n",
              "      display:flex;\n",
              "      flex-wrap:wrap;\n",
              "      gap: 12px;\n",
              "    }\n",
              "\n",
              "    .colab-df-convert {\n",
              "      background-color: #E8F0FE;\n",
              "      border: none;\n",
              "      border-radius: 50%;\n",
              "      cursor: pointer;\n",
              "      display: none;\n",
              "      fill: #1967D2;\n",
              "      height: 32px;\n",
              "      padding: 0 0 0 0;\n",
              "      width: 32px;\n",
              "    }\n",
              "\n",
              "    .colab-df-convert:hover {\n",
              "      background-color: #E2EBFA;\n",
              "      box-shadow: 0px 1px 2px rgba(60, 64, 67, 0.3), 0px 1px 3px 1px rgba(60, 64, 67, 0.15);\n",
              "      fill: #174EA6;\n",
              "    }\n",
              "\n",
              "    [theme=dark] .colab-df-convert {\n",
              "      background-color: #3B4455;\n",
              "      fill: #D2E3FC;\n",
              "    }\n",
              "\n",
              "    [theme=dark] .colab-df-convert:hover {\n",
              "      background-color: #434B5C;\n",
              "      box-shadow: 0px 1px 3px 1px rgba(0, 0, 0, 0.15);\n",
              "      filter: drop-shadow(0px 1px 2px rgba(0, 0, 0, 0.3));\n",
              "      fill: #FFFFFF;\n",
              "    }\n",
              "  </style>\n",
              "\n",
              "      <script>\n",
              "        const buttonEl =\n",
              "          document.querySelector('#df-8826353c-35ea-4a1a-abd9-7845df87b59a button.colab-df-convert');\n",
              "        buttonEl.style.display =\n",
              "          google.colab.kernel.accessAllowed ? 'block' : 'none';\n",
              "\n",
              "        async function convertToInteractive(key) {\n",
              "          const element = document.querySelector('#df-8826353c-35ea-4a1a-abd9-7845df87b59a');\n",
              "          const dataTable =\n",
              "            await google.colab.kernel.invokeFunction('convertToInteractive',\n",
              "                                                     [key], {});\n",
              "          if (!dataTable) return;\n",
              "\n",
              "          const docLinkHtml = 'Like what you see? Visit the ' +\n",
              "            '<a target=\"_blank\" href=https://colab.research.google.com/notebooks/data_table.ipynb>data table notebook</a>'\n",
              "            + ' to learn more about interactive tables.';\n",
              "          element.innerHTML = '';\n",
              "          dataTable['output_type'] = 'display_data';\n",
              "          await google.colab.output.renderOutput(dataTable, element);\n",
              "          const docLink = document.createElement('div');\n",
              "          docLink.innerHTML = docLinkHtml;\n",
              "          element.appendChild(docLink);\n",
              "        }\n",
              "      </script>\n",
              "    </div>\n",
              "  </div>\n",
              "  "
            ]
          },
          "metadata": {},
          "execution_count": 39
        }
      ]
    },
    {
      "cell_type": "code",
      "source": [
        "amazon3 = amazon2[['price','number_available_in_stock','number_of_reviews','number_of_answered_questions','buckets']]"
      ],
      "metadata": {
        "id": "adZOQ6ECdoUH"
      },
      "execution_count": null,
      "outputs": []
    },
    {
      "cell_type": "code",
      "source": [
        "from sklearn.model_selection import train_test_split\n",
        "x=amazon3.iloc[:,:4] \n",
        "y=amazon3['buckets'] \n",
        "X_train, X_test, y_train, y_test = train_test_split(x, y, test_size = 0.2) \n",
        "print(\"X_train shape: {}\".format(X_train.shape))\n",
        "print(\"X_test shape: {}\".format(X_test.shape))"
      ],
      "metadata": {
        "colab": {
          "base_uri": "https://localhost:8080/"
        },
        "id": "aCYlTayFefs-",
        "outputId": "2959aca3-65cb-431a-e2ba-10f516e9c236"
      },
      "execution_count": null,
      "outputs": [
        {
          "output_type": "stream",
          "name": "stdout",
          "text": [
            "X_train shape: (5049, 4)\n",
            "X_test shape: (1263, 4)\n"
          ]
        }
      ]
    },
    {
      "cell_type": "code",
      "source": [
        "rf = RandomForestClassifier()\n",
        "rf.get_params"
      ],
      "metadata": {
        "colab": {
          "base_uri": "https://localhost:8080/"
        },
        "id": "Uwhd9CIZfoxN",
        "outputId": "d21f815a-5c7d-4c9c-8676-b745ae03b395"
      },
      "execution_count": null,
      "outputs": [
        {
          "output_type": "execute_result",
          "data": {
            "text/plain": [
              "<bound method BaseEstimator.get_params of RandomForestClassifier()>"
            ]
          },
          "metadata": {},
          "execution_count": 42
        }
      ]
    },
    {
      "cell_type": "code",
      "source": [
        "\n",
        "rf.fit(X_train, y_train)"
      ],
      "metadata": {
        "colab": {
          "base_uri": "https://localhost:8080/"
        },
        "id": "i6yOKLsJfwRh",
        "outputId": "4322b766-8c4f-49c9-e68e-26bf70e37525"
      },
      "execution_count": null,
      "outputs": [
        {
          "output_type": "execute_result",
          "data": {
            "text/plain": [
              "RandomForestClassifier()"
            ]
          },
          "metadata": {},
          "execution_count": 43
        }
      ]
    },
    {
      "cell_type": "code",
      "source": [
        "y_pred = rf.predict(X_test)\n",
        "print(y_pred) "
      ],
      "metadata": {
        "colab": {
          "base_uri": "https://localhost:8080/"
        },
        "id": "LfSLIGQxgOZG",
        "outputId": "3c4a132c-8476-4e0f-c8fb-273fc9684b6b"
      },
      "execution_count": null,
      "outputs": [
        {
          "output_type": "stream",
          "name": "stdout",
          "text": [
            "['High' 'High' 'High' ... 'High' 'High' 'High']\n"
          ]
        }
      ]
    },
    {
      "cell_type": "code",
      "source": [
        "accuracy_score(y_test, y_pred)"
      ],
      "metadata": {
        "colab": {
          "base_uri": "https://localhost:8080/"
        },
        "id": "mwEXoUTQgf_H",
        "outputId": "de9f4854-17e2-4624-e062-56fbb8294374"
      },
      "execution_count": null,
      "outputs": [
        {
          "output_type": "execute_result",
          "data": {
            "text/plain": [
              "0.8456057007125891"
            ]
          },
          "metadata": {},
          "execution_count": 45
        }
      ]
    },
    {
      "cell_type": "code",
      "source": [
        "from sklearn.metrics import plot_confusion_matrix\n",
        "plot_confusion_matrix(rf, X_test, y_test)"
      ],
      "metadata": {
        "colab": {
          "base_uri": "https://localhost:8080/",
          "height": 296
        },
        "id": "v5V2wmzjgmfC",
        "outputId": "87a7f217-1514-4e65-d795-51e9cedc5482"
      },
      "execution_count": null,
      "outputs": [
        {
          "output_type": "execute_result",
          "data": {
            "text/plain": [
              "<sklearn.metrics._plot.confusion_matrix.ConfusionMatrixDisplay at 0x7f577209b490>"
            ]
          },
          "metadata": {},
          "execution_count": 46
        },
        {
          "output_type": "display_data",
          "data": {
            "text/plain": [
              "<Figure size 432x288 with 2 Axes>"
            ],
            "image/png": "[encoded data removed]"
          },
          "metadata": {
            "needs_background": "light"
          }
        }
      ]
    },
    {
      "cell_type": "code",
      "source": [
        "\n",
        "import sklearn.metrics as metrics\n",
        "from sklearn.metrics import classification_report\n",
        "\n",
        "print(metrics.classification_report(y_test, y_pred, labels=['Low', 'Medium', 'High']))"
      ],
      "metadata": {
        "colab": {
          "base_uri": "https://localhost:8080/"
        },
        "id": "Vh2zNM-ChTUV",
        "outputId": "03645d49-2c24-4e8a-c0c2-9a106659dcd3"
      },
      "execution_count": null,
      "outputs": [
        {
          "output_type": "stream",
          "name": "stdout",
          "text": [
            "              precision    recall  f1-score   support\n",
            "\n",
            "         Low       1.00      1.00      1.00         3\n",
            "      Medium       0.23      0.08      0.12       164\n",
            "        High       0.87      0.96      0.92      1096\n",
            "\n",
            "    accuracy                           0.85      1263\n",
            "   macro avg       0.70      0.68      0.68      1263\n",
            "weighted avg       0.79      0.85      0.81      1263\n",
            "\n"
          ]
        }
      ]
    },
    {
      "cell_type": "code",
      "source": [
        "n_estimators = 1000\n",
        "min_samples_split = 5 \n",
        "criterion='entropy' "
      ],
      "metadata": {
        "id": "a5FOIuPXhBaN"
      },
      "execution_count": null,
      "outputs": []
    },
    {
      "cell_type": "code",
      "source": [
        "rf2 = RandomForestClassifier(verbose=1, n_estimators=n_estimators, min_samples_split=min_samples_split, criterion=criterion)\n",
        "rf2.fit(X_train, y_train)"
      ],
      "metadata": {
        "colab": {
          "base_uri": "https://localhost:8080/"
        },
        "id": "EOedpngeiVam",
        "outputId": "02b50abe-6f66-474e-99be-e156f4e3fddf"
      },
      "execution_count": null,
      "outputs": [
        {
          "output_type": "stream",
          "name": "stderr",
          "text": [
            "[Parallel(n_jobs=1)]: Using backend SequentialBackend with 1 concurrent workers.\n",
            "[Parallel(n_jobs=1)]: Done 1000 out of 1000 | elapsed:    8.7s finished\n"
          ]
        },
        {
          "output_type": "execute_result",
          "data": {
            "text/plain": [
              "RandomForestClassifier(criterion='entropy', min_samples_split=5,\n",
              "                       n_estimators=1000, verbose=1)"
            ]
          },
          "metadata": {},
          "execution_count": 49
        }
      ]
    },
    {
      "cell_type": "code",
      "source": [
        "# Testing and predicting\n",
        "y_pred = rf2.predict(X_test)\n",
        "\n",
        "print(accuracy_score(y_test, y_pred))\n",
        "plot_confusion_matrix(rf2, X_test, y_test)\n",
        "print(metrics.classification_report(y_test, y_pred, labels=['Low', 'Medium', 'High']))"
      ],
      "metadata": {
        "colab": {
          "base_uri": "https://localhost:8080/",
          "height": 539
        },
        "id": "n-v_7Lddidwf",
        "outputId": "94f8b02d-92b7-4384-c277-16b3f95dd13d"
      },
      "execution_count": null,
      "outputs": [
        {
          "output_type": "stream",
          "name": "stderr",
          "text": [
            "[Parallel(n_jobs=1)]: Using backend SequentialBackend with 1 concurrent workers.\n",
            "[Parallel(n_jobs=1)]: Done 1000 out of 1000 | elapsed:    0.4s finished\n",
            "[Parallel(n_jobs=1)]: Using backend SequentialBackend with 1 concurrent workers.\n"
          ]
        },
        {
          "output_type": "stream",
          "name": "stdout",
          "text": [
            "0.8653998416468726\n"
          ]
        },
        {
          "output_type": "stream",
          "name": "stderr",
          "text": [
            "[Parallel(n_jobs=1)]: Done 1000 out of 1000 | elapsed:    0.4s finished\n"
          ]
        },
        {
          "output_type": "stream",
          "name": "stdout",
          "text": [
            "              precision    recall  f1-score   support\n",
            "\n",
            "         Low       1.00      1.00      1.00         3\n",
            "      Medium       0.38      0.05      0.10       164\n",
            "        High       0.87      0.99      0.93      1096\n",
            "\n",
            "    accuracy                           0.87      1263\n",
            "   macro avg       0.75      0.68      0.67      1263\n",
            "weighted avg       0.81      0.87      0.82      1263\n",
            "\n"
          ]
        },
        {
          "output_type": "display_data",
          "data": {
            "text/plain": [
              "<Figure size 432x288 with 2 Axes>"
            ],
            "image/png": "[encoded data removed]"
          },
          "metadata": {
            "needs_background": "light"
          }
        }
      ]
    },
    {
      "cell_type": "code",
      "source": [
        "#after comparing both the models 100 trees and 1000 trees, i feel that building 100 tree model is better. As building a 1000 tree model consumes the process and also the outcomes of both the models are mostly relatable or identical.  "
      ],
      "metadata": {
        "id": "hP2PBfBom3lW"
      },
      "execution_count": null,
      "outputs": []
    }
  ]
}