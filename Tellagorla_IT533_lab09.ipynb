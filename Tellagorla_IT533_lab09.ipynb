{
  "nbformat": 4,
  "nbformat_minor": 0,
  "metadata": {
    "colab": {
      "name": "Tellagorla_IT533_lab09.ipynb",
      "provenance": []
    },
    "kernelspec": {
      "name": "python3",
      "display_name": "Python 3"
    },
    "language_info": {
      "name": "python"
    }
  },
  "cells": [
    {
      "cell_type": "code",
      "execution_count": 2,
      "metadata": {
        "colab": {
          "base_uri": "https://localhost:8080/",
          "height": 548
        },
        "id": "y2ZRKMoNOjmo",
        "outputId": "c8ebac04-10a8-4b91-8312-f76fb3632432"
      },
      "outputs": [
        {
          "output_type": "stream",
          "name": "stdout",
          "text": [
            "Current TensorFlow version is 2.8.2\n"
          ]
        },
        {
          "output_type": "execute_result",
          "data": {
            "text/plain": [
              "                            uniq_id  \\\n",
              "0  dafc6b4ba4b4a3e7b4ff83402a196ae8   \n",
              "1  ba85fb9368114fce646379ed12750a5f   \n",
              "2  14e24c29ba38c2717754baa2638f242a   \n",
              "3  048d64d2ba61c23f6280663a7281ff19   \n",
              "4  7b72f597db5d74d35c4f91ef69708cf1   \n",
              "\n",
              "                                        product_name  \\\n",
              "0                                      Dinosaur Eggs   \n",
              "1   Neopets 4 Trading Card Fun Packs (2 Bonus Cards)   \n",
              "2          Latex Assorted Water Balloons, Pack of 40   \n",
              "3                iCarly Shopper Bag - Lilac and Pink   \n",
              "4  4 Packs of Mini Colouring Pencils (4 pencils i...   \n",
              "\n",
              "               manufacturer  price  number_available_in_stock status  \\\n",
              "0                   Halsall   0.29                          3    new   \n",
              "1                   Neopets   0.38                          2    new   \n",
              "2              Unique Party   0.39                          7    new   \n",
              "3    Trade Mark Collections   0.50                          4    new   \n",
              "4  unisex party bag fillers   0.60                          7    new   \n",
              "\n",
              "   number_of_reviews  number_of_answered_questions  \\\n",
              "0                  3                             2   \n",
              "1                  2                             1   \n",
              "2                  2                             1   \n",
              "3                  7                             2   \n",
              "4                 21                             1   \n",
              "\n",
              "   average_review_rating_of_5  \\\n",
              "0                         4.0   \n",
              "1                         4.5   \n",
              "2                         4.5   \n",
              "3                         4.6   \n",
              "4                         4.3   \n",
              "\n",
              "                    amazon_category_and_sub_category  \\\n",
              "0                     Figures & Playsets > Dinosaurs   \n",
              "1  Hobbies > Trading Cards & Accessories > Packs ...   \n",
              "2            Party Supplies > Decorations > Balloons   \n",
              "3  Sports Toys & Outdoor > Beach Toys > Airbeds &...   \n",
              "4                  Arts & Crafts > Colouring Pencils   \n",
              "\n",
              "          customers_who_bought_this_item_also_bought  \\\n",
              "0  http://www.amazon.co.uk/Hatch-em-TY63-Hatching...   \n",
              "1                                            Unknown   \n",
              "2  http://www.amazon.co.uk/Latex-Cannonball | htt...   \n",
              "3  http://www.amazon.co.uk/iCarly-Large-Rectangle...   \n",
              "4  http://www.amazon.co.uk/12-Mini-Christmas-Colo...   \n",
              "\n",
              "                                         description  \\\n",
              "0           Manufacturer's Description not available   \n",
              "1           Manufacturer's Description not available   \n",
              "2  Colour Name:Assorted Bold  |  Size Name:Pack o...   \n",
              "3  Manufacturer's Description The iCarly Shopping...   \n",
              "4  4 x Mini Colouring Pencils - Pack of 4 Size: 8...   \n",
              "\n",
              "                                 product_information  \\\n",
              "0  Technical Details Item Weight82 g Product Dime...   \n",
              "1  Technical Details Item Weight454 g Product Dim...   \n",
              "2  Technical Details Item Weight222 g Product Dim...   \n",
              "3                                                NaN   \n",
              "4  Technical Details Item Weight59 g Product Dime...   \n",
              "\n",
              "                                 product_description  \\\n",
              "0                                      Not available   \n",
              "1                                      Not available   \n",
              "2  Colour Name:Assorted Bold  |  Size Name:Pack o...   \n",
              "3  Manufacturer's Description The iCarly Shopping...   \n",
              "4  4 x Mini Colouring Pencils - Pack of 4 Size: 8...   \n",
              "\n",
              "         items_customers_buy_after_viewing_this_item  \\\n",
              "0  http://www.amazon.co.uk/Hatch-em-TY63-Hatching...   \n",
              "1                                      Not available   \n",
              "2  http://www.amazon.co.uk/Water-Bombs-Pack-100-A...   \n",
              "3  http://www.amazon.co.uk/Namco-Bandai-Icarly/dp...   \n",
              "4  http://www.amazon.co.uk/20-Packs-Wax-Crayons-P...   \n",
              "\n",
              "                      customer_questions_and_answers  \\\n",
              "0                                               None   \n",
              "1                                               None   \n",
              "2                                               None   \n",
              "3                                               None   \n",
              "4  How many packs in the box. // I got four Mimi ...   \n",
              "\n",
              "                                    customer_reviews  \n",
              "0  Fascinating fun // 4.0 // 25 Nov. 2008 // By\\n...  \n",
              "1  Never Too Old // 4.0 // 6 Nov. 2013 // By\\n   ...  \n",
              "2  Great item // 4.0 // 27 Dec. 2015 // By\\n    \\...  \n",
              "3  Very good product // 5.0 // 26 Mar. 2014 // By...  \n",
              "4  Well made and presented // 4.0 // 6 April 2015...  "
            ],
            "text/html": [
              "\n",
              "  <div id=\"df-23db0560-1b5e-4aca-94e6-b2938cd4eb7b\">\n",
              "    <div class=\"colab-df-container\">\n",
              "      <div>\n",
              "<style scoped>\n",
              "    .dataframe tbody tr th:only-of-type {\n",
              "        vertical-align: middle;\n",
              "    }\n",
              "\n",
              "    .dataframe tbody tr th {\n",
              "        vertical-align: top;\n",
              "    }\n",
              "\n",
              "    .dataframe thead th {\n",
              "        text-align: right;\n",
              "    }\n",
              "</style>\n",
              "<table border=\"1\" class=\"dataframe\">\n",
              "  <thead>\n",
              "    <tr style=\"text-align: right;\">\n",
              "      <th></th>\n",
              "      <th>uniq_id</th>\n",
              "      <th>product_name</th>\n",
              "      <th>manufacturer</th>\n",
              "      <th>price</th>\n",
              "      <th>number_available_in_stock</th>\n",
              "      <th>status</th>\n",
              "      <th>number_of_reviews</th>\n",
              "      <th>number_of_answered_questions</th>\n",
              "      <th>average_review_rating_of_5</th>\n",
              "      <th>amazon_category_and_sub_category</th>\n",
              "      <th>customers_who_bought_this_item_also_bought</th>\n",
              "      <th>description</th>\n",
              "      <th>product_information</th>\n",
              "      <th>product_description</th>\n",
              "      <th>items_customers_buy_after_viewing_this_item</th>\n",
              "      <th>customer_questions_and_answers</th>\n",
              "      <th>customer_reviews</th>\n",
              "    </tr>\n",
              "  </thead>\n",
              "  <tbody>\n",
              "    <tr>\n",
              "      <th>0</th>\n",
              "      <td>dafc6b4ba4b4a3e7b4ff83402a196ae8</td>\n",
              "      <td>Dinosaur Eggs</td>\n",
              "      <td>Halsall</td>\n",
              "      <td>0.29</td>\n",
              "      <td>3</td>\n",
              "      <td>new</td>\n",
              "      <td>3</td>\n",
              "      <td>2</td>\n",
              "      <td>4.0</td>\n",
              "      <td>Figures &amp; Playsets &gt; Dinosaurs</td>\n",
              "      <td>http://www.amazon.co.uk/Hatch-em-TY63-Hatching...</td>\n",
              "      <td>Manufacturer's Description not available</td>\n",
              "      <td>Technical Details Item Weight82 g Product Dime...</td>\n",
              "      <td>Not available</td>\n",
              "      <td>http://www.amazon.co.uk/Hatch-em-TY63-Hatching...</td>\n",
              "      <td>None</td>\n",
              "      <td>Fascinating fun // 4.0 // 25 Nov. 2008 // By\\n...</td>\n",
              "    </tr>\n",
              "    <tr>\n",
              "      <th>1</th>\n",
              "      <td>ba85fb9368114fce646379ed12750a5f</td>\n",
              "      <td>Neopets 4 Trading Card Fun Packs (2 Bonus Cards)</td>\n",
              "      <td>Neopets</td>\n",
              "      <td>0.38</td>\n",
              "      <td>2</td>\n",
              "      <td>new</td>\n",
              "      <td>2</td>\n",
              "      <td>1</td>\n",
              "      <td>4.5</td>\n",
              "      <td>Hobbies &gt; Trading Cards &amp; Accessories &gt; Packs ...</td>\n",
              "      <td>Unknown</td>\n",
              "      <td>Manufacturer's Description not available</td>\n",
              "      <td>Technical Details Item Weight454 g Product Dim...</td>\n",
              "      <td>Not available</td>\n",
              "      <td>Not available</td>\n",
              "      <td>None</td>\n",
              "      <td>Never Too Old // 4.0 // 6 Nov. 2013 // By\\n   ...</td>\n",
              "    </tr>\n",
              "    <tr>\n",
              "      <th>2</th>\n",
              "      <td>14e24c29ba38c2717754baa2638f242a</td>\n",
              "      <td>Latex Assorted Water Balloons, Pack of 40</td>\n",
              "      <td>Unique Party</td>\n",
              "      <td>0.39</td>\n",
              "      <td>7</td>\n",
              "      <td>new</td>\n",
              "      <td>2</td>\n",
              "      <td>1</td>\n",
              "      <td>4.5</td>\n",
              "      <td>Party Supplies &gt; Decorations &gt; Balloons</td>\n",
              "      <td>http://www.amazon.co.uk/Latex-Cannonball | htt...</td>\n",
              "      <td>Colour Name:Assorted Bold  |  Size Name:Pack o...</td>\n",
              "      <td>Technical Details Item Weight222 g Product Dim...</td>\n",
              "      <td>Colour Name:Assorted Bold  |  Size Name:Pack o...</td>\n",
              "      <td>http://www.amazon.co.uk/Water-Bombs-Pack-100-A...</td>\n",
              "      <td>None</td>\n",
              "      <td>Great item // 4.0 // 27 Dec. 2015 // By\\n    \\...</td>\n",
              "    </tr>\n",
              "    <tr>\n",
              "      <th>3</th>\n",
              "      <td>048d64d2ba61c23f6280663a7281ff19</td>\n",
              "      <td>iCarly Shopper Bag - Lilac and Pink</td>\n",
              "      <td>Trade Mark Collections</td>\n",
              "      <td>0.50</td>\n",
              "      <td>4</td>\n",
              "      <td>new</td>\n",
              "      <td>7</td>\n",
              "      <td>2</td>\n",
              "      <td>4.6</td>\n",
              "      <td>Sports Toys &amp; Outdoor &gt; Beach Toys &gt; Airbeds &amp;...</td>\n",
              "      <td>http://www.amazon.co.uk/iCarly-Large-Rectangle...</td>\n",
              "      <td>Manufacturer's Description The iCarly Shopping...</td>\n",
              "      <td>NaN</td>\n",
              "      <td>Manufacturer's Description The iCarly Shopping...</td>\n",
              "      <td>http://www.amazon.co.uk/Namco-Bandai-Icarly/dp...</td>\n",
              "      <td>None</td>\n",
              "      <td>Very good product // 5.0 // 26 Mar. 2014 // By...</td>\n",
              "    </tr>\n",
              "    <tr>\n",
              "      <th>4</th>\n",
              "      <td>7b72f597db5d74d35c4f91ef69708cf1</td>\n",
              "      <td>4 Packs of Mini Colouring Pencils (4 pencils i...</td>\n",
              "      <td>unisex party bag fillers</td>\n",
              "      <td>0.60</td>\n",
              "      <td>7</td>\n",
              "      <td>new</td>\n",
              "      <td>21</td>\n",
              "      <td>1</td>\n",
              "      <td>4.3</td>\n",
              "      <td>Arts &amp; Crafts &gt; Colouring Pencils</td>\n",
              "      <td>http://www.amazon.co.uk/12-Mini-Christmas-Colo...</td>\n",
              "      <td>4 x Mini Colouring Pencils - Pack of 4 Size: 8...</td>\n",
              "      <td>Technical Details Item Weight59 g Product Dime...</td>\n",
              "      <td>4 x Mini Colouring Pencils - Pack of 4 Size: 8...</td>\n",
              "      <td>http://www.amazon.co.uk/20-Packs-Wax-Crayons-P...</td>\n",
              "      <td>How many packs in the box. // I got four Mimi ...</td>\n",
              "      <td>Well made and presented // 4.0 // 6 April 2015...</td>\n",
              "    </tr>\n",
              "  </tbody>\n",
              "</table>\n",
              "</div>\n",
              "      <button class=\"colab-df-convert\" onclick=\"convertToInteractive('df-23db0560-1b5e-4aca-94e6-b2938cd4eb7b')\"\n",
              "              title=\"Convert this dataframe to an interactive table.\"\n",
              "              style=\"display:none;\">\n",
              "        \n",
              "  <svg xmlns=\"http://www.w3.org/2000/svg\" height=\"24px\"viewBox=\"0 0 24 24\"\n",
              "       width=\"24px\">\n",
              "    <path d=\"M0 0h24v24H0V0z\" fill=\"none\"/>\n",
              "    <path d=\"M18.56 5.44l.94 2.06.94-2.06 2.06-.94-2.06-.94-.94-2.06-.94 2.06-2.06.94zm-11 1L8.5 8.5l.94-2.06 2.06-.94-2.06-.94L8.5 2.5l-.94 2.06-2.06.94zm10 10l.94 2.06.94-2.06 2.06-.94-2.06-.94-.94-2.06-.94 2.06-2.06.94z\"/><path d=\"M17.41 7.96l-1.37-1.37c-.4-.4-.92-.59-1.43-.59-.52 0-1.04.2-1.43.59L10.3 9.45l-7.72 7.72c-.78.78-.78 2.05 0 2.83L4 21.41c.39.39.9.59 1.41.59.51 0 1.02-.2 1.41-.59l7.78-7.78 2.81-2.81c.8-.78.8-2.07 0-2.86zM5.41 20L4 18.59l7.72-7.72 1.47 1.35L5.41 20z\"/>\n",
              "  </svg>\n",
              "      </button>\n",
              "      \n",
              "  <style>\n",
              "    .colab-df-container {\n",
              "      display:flex;\n",
              "      flex-wrap:wrap;\n",
              "      gap: 12px;\n",
              "    }\n",
              "\n",
              "    .colab-df-convert {\n",
              "      background-color: #E8F0FE;\n",
              "      border: none;\n",
              "      border-radius: 50%;\n",
              "      cursor: pointer;\n",
              "      display: none;\n",
              "      fill: #1967D2;\n",
              "      height: 32px;\n",
              "      padding: 0 0 0 0;\n",
              "      width: 32px;\n",
              "    }\n",
              "\n",
              "    .colab-df-convert:hover {\n",
              "      background-color: #E2EBFA;\n",
              "      box-shadow: 0px 1px 2px rgba(60, 64, 67, 0.3), 0px 1px 3px 1px rgba(60, 64, 67, 0.15);\n",
              "      fill: #174EA6;\n",
              "    }\n",
              "\n",
              "    [theme=dark] .colab-df-convert {\n",
              "      background-color: #3B4455;\n",
              "      fill: #D2E3FC;\n",
              "    }\n",
              "\n",
              "    [theme=dark] .colab-df-convert:hover {\n",
              "      background-color: #434B5C;\n",
              "      box-shadow: 0px 1px 3px 1px rgba(0, 0, 0, 0.15);\n",
              "      filter: drop-shadow(0px 1px 2px rgba(0, 0, 0, 0.3));\n",
              "      fill: #FFFFFF;\n",
              "    }\n",
              "  </style>\n",
              "\n",
              "      <script>\n",
              "        const buttonEl =\n",
              "          document.querySelector('#df-23db0560-1b5e-4aca-94e6-b2938cd4eb7b button.colab-df-convert');\n",
              "        buttonEl.style.display =\n",
              "          google.colab.kernel.accessAllowed ? 'block' : 'none';\n",
              "\n",
              "        async function convertToInteractive(key) {\n",
              "          const element = document.querySelector('#df-23db0560-1b5e-4aca-94e6-b2938cd4eb7b');\n",
              "          const dataTable =\n",
              "            await google.colab.kernel.invokeFunction('convertToInteractive',\n",
              "                                                     [key], {});\n",
              "          if (!dataTable) return;\n",
              "\n",
              "          const docLinkHtml = 'Like what you see? Visit the ' +\n",
              "            '<a target=\"_blank\" href=https://colab.research.google.com/notebooks/data_table.ipynb>data table notebook</a>'\n",
              "            + ' to learn more about interactive tables.';\n",
              "          element.innerHTML = '';\n",
              "          dataTable['output_type'] = 'display_data';\n",
              "          await google.colab.output.renderOutput(dataTable, element);\n",
              "          const docLink = document.createElement('div');\n",
              "          docLink.innerHTML = docLinkHtml;\n",
              "          element.appendChild(docLink);\n",
              "        }\n",
              "      </script>\n",
              "    </div>\n",
              "  </div>\n",
              "  "
            ]
          },
          "metadata": {},
          "execution_count": 2
        }
      ],
      "source": [
        "import tensorflow as tf # This tells Colab that we are using TensorFlow\n",
        "\n",
        "from tensorflow import keras # This is the main TensorFlow library\n",
        "from tensorflow.keras import layers # We are building a Neural Network with several hidden layers\n",
        "from tensorflow.keras.layers.experimental import preprocessing\n",
        "\n",
        "print(\"Current TensorFlow version is\", tf.__version__)\n",
        "\n",
        "import numpy as np\n",
        "import pandas as pd \n",
        "import matplotlib.pyplot as plt\n",
        "import seaborn as sns # for visualization\n",
        "from sklearn.model_selection import train_test_split\n",
        "from sklearn.metrics import accuracy_score\n",
        "import warnings\n",
        "warnings.filterwarnings(\"ignore\")\n",
        "np.random.seed(42)\n",
        "\n",
        "#Reading in the data as insurance dataframe\n",
        "amazon = pd.read_csv(\"https://raw.githubusercontent.com/shstreuber/Data-Mining/master/data/amazon_toy_sample_clean.csv\", encoding=\"ISO-8859-1\")\n",
        "\n",
        "#Verifying that we can see the data\n",
        "amazon.head()"
      ]
    },
    {
      "cell_type": "code",
      "source": [
        "amazon2 = amazon[['price','number_available_in_stock','number_of_reviews','number_of_answered_questions','average_review_rating_of_5']]\n",
        "amazon2.head()"
      ],
      "metadata": {
        "colab": {
          "base_uri": "https://localhost:8080/",
          "height": 206
        },
        "id": "tTG3QJP1WxPT",
        "outputId": "99ea395c-3d49-49f4-a6e9-e51e7a3f0dbe"
      },
      "execution_count": 4,
      "outputs": [
        {
          "output_type": "execute_result",
          "data": {
            "text/plain": [
              "   price  number_available_in_stock  number_of_reviews  \\\n",
              "0   0.29                          3                  3   \n",
              "1   0.38                          2                  2   \n",
              "2   0.39                          7                  2   \n",
              "3   0.50                          4                  7   \n",
              "4   0.60                          7                 21   \n",
              "\n",
              "   number_of_answered_questions  average_review_rating_of_5  \n",
              "0                             2                         4.0  \n",
              "1                             1                         4.5  \n",
              "2                             1                         4.5  \n",
              "3                             2                         4.6  \n",
              "4                             1                         4.3  "
            ],
            "text/html": [
              "\n",
              "  <div id=\"df-aed70553-2ce4-42ad-a66e-ea40cc8f90b4\">\n",
              "    <div class=\"colab-df-container\">\n",
              "      <div>\n",
              "<style scoped>\n",
              "    .dataframe tbody tr th:only-of-type {\n",
              "        vertical-align: middle;\n",
              "    }\n",
              "\n",
              "    .dataframe tbody tr th {\n",
              "        vertical-align: top;\n",
              "    }\n",
              "\n",
              "    .dataframe thead th {\n",
              "        text-align: right;\n",
              "    }\n",
              "</style>\n",
              "<table border=\"1\" class=\"dataframe\">\n",
              "  <thead>\n",
              "    <tr style=\"text-align: right;\">\n",
              "      <th></th>\n",
              "      <th>price</th>\n",
              "      <th>number_available_in_stock</th>\n",
              "      <th>number_of_reviews</th>\n",
              "      <th>number_of_answered_questions</th>\n",
              "      <th>average_review_rating_of_5</th>\n",
              "    </tr>\n",
              "  </thead>\n",
              "  <tbody>\n",
              "    <tr>\n",
              "      <th>0</th>\n",
              "      <td>0.29</td>\n",
              "      <td>3</td>\n",
              "      <td>3</td>\n",
              "      <td>2</td>\n",
              "      <td>4.0</td>\n",
              "    </tr>\n",
              "    <tr>\n",
              "      <th>1</th>\n",
              "      <td>0.38</td>\n",
              "      <td>2</td>\n",
              "      <td>2</td>\n",
              "      <td>1</td>\n",
              "      <td>4.5</td>\n",
              "    </tr>\n",
              "    <tr>\n",
              "      <th>2</th>\n",
              "      <td>0.39</td>\n",
              "      <td>7</td>\n",
              "      <td>2</td>\n",
              "      <td>1</td>\n",
              "      <td>4.5</td>\n",
              "    </tr>\n",
              "    <tr>\n",
              "      <th>3</th>\n",
              "      <td>0.50</td>\n",
              "      <td>4</td>\n",
              "      <td>7</td>\n",
              "      <td>2</td>\n",
              "      <td>4.6</td>\n",
              "    </tr>\n",
              "    <tr>\n",
              "      <th>4</th>\n",
              "      <td>0.60</td>\n",
              "      <td>7</td>\n",
              "      <td>21</td>\n",
              "      <td>1</td>\n",
              "      <td>4.3</td>\n",
              "    </tr>\n",
              "  </tbody>\n",
              "</table>\n",
              "</div>\n",
              "      <button class=\"colab-df-convert\" onclick=\"convertToInteractive('df-aed70553-2ce4-42ad-a66e-ea40cc8f90b4')\"\n",
              "              title=\"Convert this dataframe to an interactive table.\"\n",
              "              style=\"display:none;\">\n",
              "        \n",
              "  <svg xmlns=\"http://www.w3.org/2000/svg\" height=\"24px\"viewBox=\"0 0 24 24\"\n",
              "       width=\"24px\">\n",
              "    <path d=\"M0 0h24v24H0V0z\" fill=\"none\"/>\n",
              "    <path d=\"M18.56 5.44l.94 2.06.94-2.06 2.06-.94-2.06-.94-.94-2.06-.94 2.06-2.06.94zm-11 1L8.5 8.5l.94-2.06 2.06-.94-2.06-.94L8.5 2.5l-.94 2.06-2.06.94zm10 10l.94 2.06.94-2.06 2.06-.94-2.06-.94-.94-2.06-.94 2.06-2.06.94z\"/><path d=\"M17.41 7.96l-1.37-1.37c-.4-.4-.92-.59-1.43-.59-.52 0-1.04.2-1.43.59L10.3 9.45l-7.72 7.72c-.78.78-.78 2.05 0 2.83L4 21.41c.39.39.9.59 1.41.59.51 0 1.02-.2 1.41-.59l7.78-7.78 2.81-2.81c.8-.78.8-2.07 0-2.86zM5.41 20L4 18.59l7.72-7.72 1.47 1.35L5.41 20z\"/>\n",
              "  </svg>\n",
              "      </button>\n",
              "      \n",
              "  <style>\n",
              "    .colab-df-container {\n",
              "      display:flex;\n",
              "      flex-wrap:wrap;\n",
              "      gap: 12px;\n",
              "    }\n",
              "\n",
              "    .colab-df-convert {\n",
              "      background-color: #E8F0FE;\n",
              "      border: none;\n",
              "      border-radius: 50%;\n",
              "      cursor: pointer;\n",
              "      display: none;\n",
              "      fill: #1967D2;\n",
              "      height: 32px;\n",
              "      padding: 0 0 0 0;\n",
              "      width: 32px;\n",
              "    }\n",
              "\n",
              "    .colab-df-convert:hover {\n",
              "      background-color: #E2EBFA;\n",
              "      box-shadow: 0px 1px 2px rgba(60, 64, 67, 0.3), 0px 1px 3px 1px rgba(60, 64, 67, 0.15);\n",
              "      fill: #174EA6;\n",
              "    }\n",
              "\n",
              "    [theme=dark] .colab-df-convert {\n",
              "      background-color: #3B4455;\n",
              "      fill: #D2E3FC;\n",
              "    }\n",
              "\n",
              "    [theme=dark] .colab-df-convert:hover {\n",
              "      background-color: #434B5C;\n",
              "      box-shadow: 0px 1px 3px 1px rgba(0, 0, 0, 0.15);\n",
              "      filter: drop-shadow(0px 1px 2px rgba(0, 0, 0, 0.3));\n",
              "      fill: #FFFFFF;\n",
              "    }\n",
              "  </style>\n",
              "\n",
              "      <script>\n",
              "        const buttonEl =\n",
              "          document.querySelector('#df-aed70553-2ce4-42ad-a66e-ea40cc8f90b4 button.colab-df-convert');\n",
              "        buttonEl.style.display =\n",
              "          google.colab.kernel.accessAllowed ? 'block' : 'none';\n",
              "\n",
              "        async function convertToInteractive(key) {\n",
              "          const element = document.querySelector('#df-aed70553-2ce4-42ad-a66e-ea40cc8f90b4');\n",
              "          const dataTable =\n",
              "            await google.colab.kernel.invokeFunction('convertToInteractive',\n",
              "                                                     [key], {});\n",
              "          if (!dataTable) return;\n",
              "\n",
              "          const docLinkHtml = 'Like what you see? Visit the ' +\n",
              "            '<a target=\"_blank\" href=https://colab.research.google.com/notebooks/data_table.ipynb>data table notebook</a>'\n",
              "            + ' to learn more about interactive tables.';\n",
              "          element.innerHTML = '';\n",
              "          dataTable['output_type'] = 'display_data';\n",
              "          await google.colab.output.renderOutput(dataTable, element);\n",
              "          const docLink = document.createElement('div');\n",
              "          docLink.innerHTML = docLinkHtml;\n",
              "          element.appendChild(docLink);\n",
              "        }\n",
              "      </script>\n",
              "    </div>\n",
              "  </div>\n",
              "  "
            ]
          },
          "metadata": {},
          "execution_count": 4
        }
      ]
    },
    {
      "cell_type": "code",
      "source": [
        "train_dataset = amazon2.sample(frac=0.8, random_state=0)\n",
        "test_dataset = amazon2.drop(train_dataset.index)\n",
        "X_train, X_test, y_train, y_test = train_test_split(X, y, test_size = 0.33)"
      ],
      "metadata": {
        "id": "c_N5itp_WPnZ"
      },
      "execution_count": 6,
      "outputs": []
    },
    {
      "cell_type": "code",
      "source": [
        "train_features = train_dataset.copy()\n",
        "test_features = test_dataset.copy()\n",
        "\n",
        "train_labels = train_features.pop('average_review_rating_of_5')\n",
        "test_labels = test_features.pop('average_review_rating_of_5')"
      ],
      "metadata": {
        "id": "GIyFN5KgZ3vy"
      },
      "execution_count": 7,
      "outputs": []
    },
    {
      "cell_type": "code",
      "source": [
        "normalizer = preprocessing.Normalization(axis=-1)"
      ],
      "metadata": {
        "id": "RX2iEgvybHCb"
      },
      "execution_count": 8,
      "outputs": []
    },
    {
      "cell_type": "code",
      "source": [
        "normalizer.adapt(np.array(train_features))"
      ],
      "metadata": {
        "id": "sykqfDKXbclJ"
      },
      "execution_count": 9,
      "outputs": []
    },
    {
      "cell_type": "code",
      "source": [
        "print(normalizer.mean.numpy())"
      ],
      "metadata": {
        "colab": {
          "base_uri": "https://localhost:8080/"
        },
        "id": "ZhdkSi-ibh4p",
        "outputId": "1f6b8d60-c9ad-4645-d688-19d40ff2b2bd"
      },
      "execution_count": 10,
      "outputs": [
        {
          "output_type": "stream",
          "name": "stdout",
          "text": [
            "[[20.150934  8.713164 11.578219  4.002565]]\n"
          ]
        }
      ]
    },
    {
      "cell_type": "code",
      "source": [
        "first = np.array(train_features[:1])\n",
        "\n",
        "with np.printoptions(precision=2, suppress=True):\n",
        "  print('Original data:', first)\n",
        "  print()\n",
        "  print('Normalized data:', normalizer(first).numpy())"
      ],
      "metadata": {
        "colab": {
          "base_uri": "https://localhost:8080/"
        },
        "id": "LymeGAVWboLY",
        "outputId": "f3ad39cc-4969-4454-8217-357b9cb63e86"
      },
      "execution_count": 11,
      "outputs": [
        {
          "output_type": "stream",
          "name": "stdout",
          "text": [
            "Original data: [[14.  2.  1.  1.]]\n",
            "\n",
            "Normalized data: [[-0.13 -0.74 -0.26 -0.21]]\n"
          ]
        }
      ]
    },
    {
      "cell_type": "code",
      "source": [
        "# First, we build the normalization layer:\n",
        "price_new = np.array(train_features['price'])\n",
        "\n",
        "price_normalizer = preprocessing.Normalization(input_shape=[1,], axis=None)\n",
        "price_normalizer.adapt(price_new)"
      ],
      "metadata": {
        "id": "xZiDGkP4c5_F"
      },
      "execution_count": 14,
      "outputs": []
    },
    {
      "cell_type": "code",
      "source": [
        "# Now we build the framework that holds all the models:\n",
        "price_model = tf.keras.Sequential([\n",
        "    price_normalizer,\n",
        "    layers.Dense(units=1)\n",
        "])\n",
        "\n",
        "price_model.summary()"
      ],
      "metadata": {
        "colab": {
          "base_uri": "https://localhost:8080/"
        },
        "id": "JwjIgc5Re7rO",
        "outputId": "e8577e45-5c07-49d4-8f8c-ea9630008872"
      },
      "execution_count": 15,
      "outputs": [
        {
          "output_type": "stream",
          "name": "stdout",
          "text": [
            "Model: \"sequential\"\n",
            "_________________________________________________________________\n",
            " Layer (type)                Output Shape              Param #   \n",
            "=================================================================\n",
            " normalization_3 (Normalizat  (None, 1)                3         \n",
            " ion)                                                            \n",
            "                                                                 \n",
            " dense (Dense)               (None, 1)                 2         \n",
            "                                                                 \n",
            "=================================================================\n",
            "Total params: 5\n",
            "Trainable params: 2\n",
            "Non-trainable params: 3\n",
            "_________________________________________________________________\n"
          ]
        }
      ]
    },
    {
      "cell_type": "code",
      "source": [
        "price_model.compile(\n",
        "    optimizer=tf.optimizers.Adam(learning_rate=0.1),\n",
        "    loss='mean_absolute_error')"
      ],
      "metadata": {
        "id": "hmMIh2rigIhx"
      },
      "execution_count": 17,
      "outputs": []
    },
    {
      "cell_type": "code",
      "source": [
        "%%time\n",
        "history = price_model.fit(\n",
        "    train_features['price'], train_labels,\n",
        "    epochs=100,\n",
        "    # suppress logging\n",
        "    verbose=0,\n",
        "    # Calculate validation results on 20% of the training data. Validation means that we test as we go, on a 20% subset of the training data\n",
        "    validation_split = 0.2)"
      ],
      "metadata": {
        "colab": {
          "base_uri": "https://localhost:8080/"
        },
        "id": "lHB1YhkYmDRH",
        "outputId": "922249a7-e31a-4c78-9ac4-8f3d02a722f2"
      },
      "execution_count": 18,
      "outputs": [
        {
          "output_type": "stream",
          "name": "stdout",
          "text": [
            "CPU times: user 21.9 s, sys: 1.27 s, total: 23.2 s\n",
            "Wall time: 42 s\n"
          ]
        }
      ]
    },
    {
      "cell_type": "code",
      "source": [
        "train_features['price']"
      ],
      "metadata": {
        "colab": {
          "base_uri": "https://localhost:8080/"
        },
        "id": "VkahwKjFmXEq",
        "outputId": "805ca65c-7fef-463d-f751-70572c41617e"
      },
      "execution_count": 19,
      "outputs": [
        {
          "output_type": "execute_result",
          "data": {
            "text/plain": [
              "3790     14.00\n",
              "733       2.89\n",
              "3931     14.95\n",
              "3385     12.02\n",
              "3169     11.28\n",
              "         ...  \n",
              "5141     25.28\n",
              "6213    114.98\n",
              "6316    299.73\n",
              "5530     34.46\n",
              "239       1.60\n",
              "Name: price, Length: 5069, dtype: float64"
            ]
          },
          "metadata": {},
          "execution_count": 19
        }
      ]
    },
    {
      "cell_type": "code",
      "source": [
        "x = tf.linspace(0.0, 250, 251)\n",
        "y = price_model.predict(x)"
      ],
      "metadata": {
        "id": "KCA-YNZpmbUf"
      },
      "execution_count": 21,
      "outputs": []
    },
    {
      "cell_type": "code",
      "source": [
        "def plot_age(x, y):\n",
        "  plt.scatter(train_features['price'], train_labels, label='Data')\n",
        "  plt.plot(x, y, color='k', label='Predictions')\n",
        "  plt.xlabel('price')\n",
        "  plt.ylabel('average_review_rating_of_5')\n",
        "  plt.legend()\n",
        "plot_age(x,y) "
      ],
      "metadata": {
        "colab": {
          "base_uri": "https://localhost:8080/",
          "height": 279
        },
        "id": "-g2B6G1bmim9",
        "outputId": "b2368403-2642-4999-a50d-52af2570e676"
      },
      "execution_count": 22,
      "outputs": [
        {
          "output_type": "display_data",
          "data": {
            "text/plain": [
              "<Figure size 432x288 with 1 Axes>"
            ],
            "image/png": "[encoded data removed]"
          },
          "metadata": {
            "needs_background": "light"
          }
        }
      ]
    },
    {
      "cell_type": "code",
      "source": [
        "test_results = {}\n",
        "\n",
        "test_results['price_model'] = price_model.evaluate(\n",
        "    test_features['price'],\n",
        "    test_labels, verbose=0)"
      ],
      "metadata": {
        "id": "Us8E0ZFimu09"
      },
      "execution_count": 23,
      "outputs": []
    },
    {
      "cell_type": "code",
      "source": [
        "linear_model = tf.keras.Sequential([\n",
        "    normalizer,\n",
        "    layers.Dense(units=1)\n",
        "])"
      ],
      "metadata": {
        "id": "5aHXe2c9m4ey"
      },
      "execution_count": 24,
      "outputs": []
    },
    {
      "cell_type": "code",
      "source": [
        "linear_model.layers[1].kernel"
      ],
      "metadata": {
        "colab": {
          "base_uri": "https://localhost:8080/"
        },
        "id": "kWkYPObCm7gr",
        "outputId": "ce4bf75b-69cc-4840-e4f9-1050392bf773"
      },
      "execution_count": 25,
      "outputs": [
        {
          "output_type": "execute_result",
          "data": {
            "text/plain": [
              "<tf.Variable 'dense_1/kernel:0' shape=(4, 1) dtype=float32, numpy=\n",
              "array([[ 0.41208887],\n",
              "       [ 0.35893047],\n",
              "       [-0.7323006 ],\n",
              "       [ 0.0379473 ]], dtype=float32)>"
            ]
          },
          "metadata": {},
          "execution_count": 25
        }
      ]
    },
    {
      "cell_type": "code",
      "source": [
        "linear_model.compile(\n",
        "    optimizer=tf.optimizers.Adam(learning_rate=0.1),\n",
        "    loss='mean_absolute_error')"
      ],
      "metadata": {
        "id": "OYeg2_ygnAZB"
      },
      "execution_count": 26,
      "outputs": []
    },
    {
      "cell_type": "code",
      "source": [
        "%%time\n",
        "history = linear_model.fit(\n",
        "    train_features, train_labels, \n",
        "    epochs=10,\n",
        "    # 10 epochs, so we turn on logging\n",
        "    verbose=1,\n",
        "    # Calculate validation results on 20% of the training data\n",
        "    validation_split = 0.2)"
      ],
      "metadata": {
        "colab": {
          "base_uri": "https://localhost:8080/"
        },
        "id": "bDrxU8FAnE7O",
        "outputId": "42a32f06-871a-46b7-dc2a-e13fc5ee4536"
      },
      "execution_count": 27,
      "outputs": [
        {
          "output_type": "stream",
          "name": "stdout",
          "text": [
            "Epoch 1/10\n",
            "127/127 [==============================] - 1s 4ms/step - loss: 1.1419 - val_loss: 0.2775\n",
            "Epoch 2/10\n",
            "127/127 [==============================] - 0s 3ms/step - loss: 0.3230 - val_loss: 0.2825\n",
            "Epoch 3/10\n",
            "127/127 [==============================] - 0s 3ms/step - loss: 0.3196 - val_loss: 0.2825\n",
            "Epoch 4/10\n",
            "127/127 [==============================] - 0s 3ms/step - loss: 0.3174 - val_loss: 0.3232\n",
            "Epoch 5/10\n",
            "127/127 [==============================] - 0s 3ms/step - loss: 0.3283 - val_loss: 0.2752\n",
            "Epoch 6/10\n",
            "127/127 [==============================] - 0s 3ms/step - loss: 0.3162 - val_loss: 0.3031\n",
            "Epoch 7/10\n",
            "127/127 [==============================] - 0s 3ms/step - loss: 0.3255 - val_loss: 0.3063\n",
            "Epoch 8/10\n",
            "127/127 [==============================] - 0s 3ms/step - loss: 0.3145 - val_loss: 0.2767\n",
            "Epoch 9/10\n",
            "127/127 [==============================] - 0s 3ms/step - loss: 0.3236 - val_loss: 0.3141\n",
            "Epoch 10/10\n",
            "127/127 [==============================] - 0s 3ms/step - loss: 0.3234 - val_loss: 0.3135\n",
            "CPU times: user 3.93 s, sys: 179 ms, total: 4.11 s\n",
            "Wall time: 5.74 s\n"
          ]
        }
      ]
    },
    {
      "cell_type": "code",
      "source": [
        "test_results['linear_model'] = linear_model.evaluate(\n",
        "    test_features, test_labels, verbose=0)"
      ],
      "metadata": {
        "id": "HnS7IpgWnK5I"
      },
      "execution_count": 28,
      "outputs": []
    },
    {
      "cell_type": "code",
      "source": [
        "def build_and_compile_model(norm):\n",
        "  model = keras.Sequential([                 # Here you are setting up the keras.Sequential architecture\n",
        "      norm,                                  # This is the normalizer function we built before\n",
        "      layers.Dense(64, activation='relu'),   # Here is the first hidden layer--64 nodes, built with the relu function\n",
        "      layers.Dense(64, activation='relu'),   # Here is the second hidden layer, also built with the relu function\n",
        "      layers.Dense(1)                        # Here is the Dense layer for a single output because we are working on a REGRESSION\n",
        "  ])                                         # AND WE'RE DONE WITH BUILDING THE MODEL!\n",
        "\n",
        "  model.compile(loss='mean_absolute_error',   # Now we configure the runtime for our model; the loss function is mean absolute error--makes sense for a regression!\n",
        "                optimizer=tf.keras.optimizers.Adam(0.001))\n",
        "  return model"
      ],
      "metadata": {
        "id": "U378pSnZnPEm"
      },
      "execution_count": 29,
      "outputs": []
    },
    {
      "cell_type": "code",
      "source": [
        "dnn_price_model = build_and_compile_model(price_normalizer)"
      ],
      "metadata": {
        "id": "JSLtPF-FnUKy"
      },
      "execution_count": 30,
      "outputs": []
    },
    {
      "cell_type": "code",
      "source": [
        "dnn_price_model.summary()"
      ],
      "metadata": {
        "colab": {
          "base_uri": "https://localhost:8080/"
        },
        "id": "y4PakxFynbKg",
        "outputId": "408e9b59-21c1-4e65-f857-141b0b31e5aa"
      },
      "execution_count": 31,
      "outputs": [
        {
          "output_type": "stream",
          "name": "stdout",
          "text": [
            "Model: \"sequential_2\"\n",
            "_________________________________________________________________\n",
            " Layer (type)                Output Shape              Param #   \n",
            "=================================================================\n",
            " normalization_3 (Normalizat  (None, 1)                3         \n",
            " ion)                                                            \n",
            "                                                                 \n",
            " dense_2 (Dense)             (None, 64)                128       \n",
            "                                                                 \n",
            " dense_3 (Dense)             (None, 64)                4160      \n",
            "                                                                 \n",
            " dense_4 (Dense)             (None, 1)                 65        \n",
            "                                                                 \n",
            "=================================================================\n",
            "Total params: 4,356\n",
            "Trainable params: 4,353\n",
            "Non-trainable params: 3\n",
            "_________________________________________________________________\n"
          ]
        }
      ]
    },
    {
      "cell_type": "code",
      "source": [
        "%%time\n",
        "history = dnn_price_model.fit(\n",
        "    train_features['price'], train_labels,\n",
        "    validation_split=0.2,\n",
        "    verbose=1, epochs=10)"
      ],
      "metadata": {
        "colab": {
          "base_uri": "https://localhost:8080/"
        },
        "id": "_L8HsRIOngEG",
        "outputId": "3d4d5e9a-3ee5-4266-8d1e-0e7b7f1fcf14"
      },
      "execution_count": 33,
      "outputs": [
        {
          "output_type": "stream",
          "name": "stdout",
          "text": [
            "Epoch 1/10\n",
            "127/127 [==============================] - 1s 5ms/step - loss: 2.3899 - val_loss: 0.5070\n",
            "Epoch 2/10\n",
            "127/127 [==============================] - 0s 4ms/step - loss: 0.4450 - val_loss: 0.3234\n",
            "Epoch 3/10\n",
            "127/127 [==============================] - 0s 3ms/step - loss: 0.3265 - val_loss: 0.2951\n",
            "Epoch 4/10\n",
            "127/127 [==============================] - 0s 4ms/step - loss: 0.3186 - val_loss: 0.2972\n",
            "Epoch 5/10\n",
            "127/127 [==============================] - 0s 3ms/step - loss: 0.3158 - val_loss: 0.2989\n",
            "Epoch 6/10\n",
            "127/127 [==============================] - 0s 3ms/step - loss: 0.3195 - val_loss: 0.2944\n",
            "Epoch 7/10\n",
            "127/127 [==============================] - 0s 3ms/step - loss: 0.3142 - val_loss: 0.2951\n",
            "Epoch 8/10\n",
            "127/127 [==============================] - 0s 2ms/step - loss: 0.3197 - val_loss: 0.2949\n",
            "Epoch 9/10\n",
            "127/127 [==============================] - 0s 2ms/step - loss: 0.3192 - val_loss: 0.2933\n",
            "Epoch 10/10\n",
            "127/127 [==============================] - 0s 2ms/step - loss: 0.3169 - val_loss: 0.3085\n",
            "CPU times: user 4.55 s, sys: 254 ms, total: 4.8 s\n",
            "Wall time: 5.87 s\n"
          ]
        }
      ]
    },
    {
      "cell_type": "code",
      "source": [
        "train_labels"
      ],
      "metadata": {
        "colab": {
          "base_uri": "https://localhost:8080/"
        },
        "id": "C5QSVDYznnSW",
        "outputId": "a3ea1b64-bac8-48a9-dd2c-1c8b4eccb6a7"
      },
      "execution_count": 34,
      "outputs": [
        {
          "output_type": "execute_result",
          "data": {
            "text/plain": [
              "3790    5.0\n",
              "733     4.8\n",
              "3931    5.0\n",
              "3385    5.0\n",
              "3169    4.2\n",
              "       ... \n",
              "5141    4.8\n",
              "6213    5.0\n",
              "6316    5.0\n",
              "5530    5.0\n",
              "239     4.5\n",
              "Name: average_review_rating_of_5, Length: 5069, dtype: float64"
            ]
          },
          "metadata": {},
          "execution_count": 34
        }
      ]
    },
    {
      "cell_type": "code",
      "source": [
        "x = tf.linspace(0.0, 250, 251)\n",
        "y = dnn_price_model.predict(x)\n",
        "\n",
        "plot_age(x, y)"
      ],
      "metadata": {
        "colab": {
          "base_uri": "https://localhost:8080/",
          "height": 279
        },
        "id": "EHMGXLg5nqLj",
        "outputId": "cd395b4b-7dfe-43e0-aa51-d882650afbad"
      },
      "execution_count": 35,
      "outputs": [
        {
          "output_type": "display_data",
          "data": {
            "text/plain": [
              "<Figure size 432x288 with 1 Axes>"
            ],
            "image/png": "[encoded data removed]"
          },
          "metadata": {
            "needs_background": "light"
          }
        }
      ]
    },
    {
      "cell_type": "code",
      "source": [
        "test_results['dnn_price_model'] = dnn_price_model.evaluate(\n",
        "    test_features['price'], test_labels,\n",
        "    verbose=0)"
      ],
      "metadata": {
        "id": "krPZvimAnuv5"
      },
      "execution_count": 37,
      "outputs": []
    },
    {
      "cell_type": "code",
      "source": [
        "dnn_model = build_and_compile_model(normalizer)\n",
        "dnn_model.summary()"
      ],
      "metadata": {
        "colab": {
          "base_uri": "https://localhost:8080/"
        },
        "id": "7iRTatUgn3bh",
        "outputId": "b3762361-22c7-4ad3-dba2-4bd58bfc2d37"
      },
      "execution_count": 38,
      "outputs": [
        {
          "output_type": "stream",
          "name": "stdout",
          "text": [
            "Model: \"sequential_3\"\n",
            "_________________________________________________________________\n",
            " Layer (type)                Output Shape              Param #   \n",
            "=================================================================\n",
            " normalization (Normalizatio  (None, 4)                9         \n",
            " n)                                                              \n",
            "                                                                 \n",
            " dense_5 (Dense)             (None, 64)                320       \n",
            "                                                                 \n",
            " dense_6 (Dense)             (None, 64)                4160      \n",
            "                                                                 \n",
            " dense_7 (Dense)             (None, 1)                 65        \n",
            "                                                                 \n",
            "=================================================================\n",
            "Total params: 4,554\n",
            "Trainable params: 4,545\n",
            "Non-trainable params: 9\n",
            "_________________________________________________________________\n"
          ]
        }
      ]
    },
    {
      "cell_type": "code",
      "source": [
        "%%time\n",
        "history = dnn_model.fit(\n",
        "    train_features, train_labels,\n",
        "    validation_split=0.2,\n",
        "    verbose=1, epochs=10)"
      ],
      "metadata": {
        "colab": {
          "base_uri": "https://localhost:8080/"
        },
        "id": "PEBlHqJ7n6SC",
        "outputId": "5fc6f509-02da-4bd3-9657-6bbf10102c94"
      },
      "execution_count": 39,
      "outputs": [
        {
          "output_type": "stream",
          "name": "stdout",
          "text": [
            "Epoch 1/10\n",
            "127/127 [==============================] - 1s 3ms/step - loss: 2.1825 - val_loss: 0.6985\n",
            "Epoch 2/10\n",
            "127/127 [==============================] - 0s 3ms/step - loss: 0.5465 - val_loss: 0.3323\n",
            "Epoch 3/10\n",
            "127/127 [==============================] - 0s 3ms/step - loss: 0.3281 - val_loss: 0.2730\n",
            "Epoch 4/10\n",
            "127/127 [==============================] - 1s 4ms/step - loss: 0.2927 - val_loss: 0.2502\n",
            "Epoch 5/10\n",
            "127/127 [==============================] - 1s 4ms/step - loss: 0.2792 - val_loss: 0.2608\n",
            "Epoch 6/10\n",
            "127/127 [==============================] - 0s 3ms/step - loss: 0.2773 - val_loss: 0.2454\n",
            "Epoch 7/10\n",
            "127/127 [==============================] - 0s 3ms/step - loss: 0.2752 - val_loss: 0.2387\n",
            "Epoch 8/10\n",
            "127/127 [==============================] - 0s 3ms/step - loss: 0.2673 - val_loss: 0.2473\n",
            "Epoch 9/10\n",
            "127/127 [==============================] - 0s 2ms/step - loss: 0.2721 - val_loss: 0.2473\n",
            "Epoch 10/10\n",
            "127/127 [==============================] - 0s 2ms/step - loss: 0.2651 - val_loss: 0.2417\n",
            "CPU times: user 4.07 s, sys: 243 ms, total: 4.31 s\n",
            "Wall time: 4.53 s\n"
          ]
        }
      ]
    },
    {
      "cell_type": "code",
      "source": [
        "%%time\n",
        "history = dnn_model.fit(\n",
        "    train_features, train_labels,\n",
        "    validation_split=0.2,\n",
        "    verbose=1, epochs=0)"
      ],
      "metadata": {
        "colab": {
          "base_uri": "https://localhost:8080/"
        },
        "id": "qJjS-sIpn-u-",
        "outputId": "97c810a0-db74-4b93-f4c1-26b7a4a93825"
      },
      "execution_count": 40,
      "outputs": [
        {
          "output_type": "stream",
          "name": "stdout",
          "text": [
            "CPU times: user 79.2 ms, sys: 808 µs, total: 80 ms\n",
            "Wall time: 94.6 ms\n"
          ]
        }
      ]
    },
    {
      "cell_type": "code",
      "source": [
        "test_predictions = dnn_model.predict(test_features).flatten()\n",
        "\n",
        "a = plt.axes(aspect='equal')\n",
        "plt.scatter(test_labels, test_predictions)\n",
        "plt.xlabel('True Values [average_review_rating_of_5]')\n",
        "plt.ylabel('Predictions [average_review_rating_of_5]')\n",
        "lims = [0, 50]\n",
        "plt.xlim(lims)\n",
        "plt.ylim(lims)\n",
        "_ = plt.plot(lims, lims)"
      ],
      "metadata": {
        "colab": {
          "base_uri": "https://localhost:8080/",
          "height": 284
        },
        "id": "JU9t3b7MoICF",
        "outputId": "95c55d74-cb9e-48d3-d3bd-1eb8ab229012"
      },
      "execution_count": 41,
      "outputs": [
        {
          "output_type": "display_data",
          "data": {
            "text/plain": [
              "<Figure size 432x288 with 1 Axes>"
            ],
            "image/png": "[encoded data removed]"
          },
          "metadata": {
            "needs_background": "light"
          }
        }
      ]
    },
    {
      "cell_type": "code",
      "source": [
        "test_predictions = dnn_model.predict(test_features).flatten()"
      ],
      "metadata": {
        "id": "6d_OsPf9oSUS"
      },
      "execution_count": 42,
      "outputs": []
    },
    {
      "cell_type": "code",
      "source": [
        "test_results['dnn_model'] = dnn_model.evaluate(test_features, test_labels, verbose=0)"
      ],
      "metadata": {
        "id": "77G083lXoU_P"
      },
      "execution_count": 43,
      "outputs": []
    },
    {
      "cell_type": "code",
      "source": [
        "pd.DataFrame(test_results, index=['Mean absolute error [average_review_rating_of_5]']).T"
      ],
      "metadata": {
        "colab": {
          "base_uri": "https://localhost:8080/",
          "height": 175
        },
        "id": "il5mZZZ3oWee",
        "outputId": "b17e0bc8-7757-40dc-c41c-8da396f48f06"
      },
      "execution_count": 45,
      "outputs": [
        {
          "output_type": "execute_result",
          "data": {
            "text/plain": [
              "                 Mean absolute error [average_review_rating_of_5]\n",
              "price_model                                              0.312581\n",
              "linear_model                                             0.325286\n",
              "dnn_price_model                                          0.323290\n",
              "dnn_model                                                0.263415"
            ],
            "text/html": [
              "\n",
              "  <div id=\"df-c4069ba8-895e-462c-983f-b2bbe865d6f8\">\n",
              "    <div class=\"colab-df-container\">\n",
              "      <div>\n",
              "<style scoped>\n",
              "    .dataframe tbody tr th:only-of-type {\n",
              "        vertical-align: middle;\n",
              "    }\n",
              "\n",
              "    .dataframe tbody tr th {\n",
              "        vertical-align: top;\n",
              "    }\n",
              "\n",
              "    .dataframe thead th {\n",
              "        text-align: right;\n",
              "    }\n",
              "</style>\n",
              "<table border=\"1\" class=\"dataframe\">\n",
              "  <thead>\n",
              "    <tr style=\"text-align: right;\">\n",
              "      <th></th>\n",
              "      <th>Mean absolute error [average_review_rating_of_5]</th>\n",
              "    </tr>\n",
              "  </thead>\n",
              "  <tbody>\n",
              "    <tr>\n",
              "      <th>price_model</th>\n",
              "      <td>0.312581</td>\n",
              "    </tr>\n",
              "    <tr>\n",
              "      <th>linear_model</th>\n",
              "      <td>0.325286</td>\n",
              "    </tr>\n",
              "    <tr>\n",
              "      <th>dnn_price_model</th>\n",
              "      <td>0.323290</td>\n",
              "    </tr>\n",
              "    <tr>\n",
              "      <th>dnn_model</th>\n",
              "      <td>0.263415</td>\n",
              "    </tr>\n",
              "  </tbody>\n",
              "</table>\n",
              "</div>\n",
              "      <button class=\"colab-df-convert\" onclick=\"convertToInteractive('df-c4069ba8-895e-462c-983f-b2bbe865d6f8')\"\n",
              "              title=\"Convert this dataframe to an interactive table.\"\n",
              "              style=\"display:none;\">\n",
              "        \n",
              "  <svg xmlns=\"http://www.w3.org/2000/svg\" height=\"24px\"viewBox=\"0 0 24 24\"\n",
              "       width=\"24px\">\n",
              "    <path d=\"M0 0h24v24H0V0z\" fill=\"none\"/>\n",
              "    <path d=\"M18.56 5.44l.94 2.06.94-2.06 2.06-.94-2.06-.94-.94-2.06-.94 2.06-2.06.94zm-11 1L8.5 8.5l.94-2.06 2.06-.94-2.06-.94L8.5 2.5l-.94 2.06-2.06.94zm10 10l.94 2.06.94-2.06 2.06-.94-2.06-.94-.94-2.06-.94 2.06-2.06.94z\"/><path d=\"M17.41 7.96l-1.37-1.37c-.4-.4-.92-.59-1.43-.59-.52 0-1.04.2-1.43.59L10.3 9.45l-7.72 7.72c-.78.78-.78 2.05 0 2.83L4 21.41c.39.39.9.59 1.41.59.51 0 1.02-.2 1.41-.59l7.78-7.78 2.81-2.81c.8-.78.8-2.07 0-2.86zM5.41 20L4 18.59l7.72-7.72 1.47 1.35L5.41 20z\"/>\n",
              "  </svg>\n",
              "      </button>\n",
              "      \n",
              "  <style>\n",
              "    .colab-df-container {\n",
              "      display:flex;\n",
              "      flex-wrap:wrap;\n",
              "      gap: 12px;\n",
              "    }\n",
              "\n",
              "    .colab-df-convert {\n",
              "      background-color: #E8F0FE;\n",
              "      border: none;\n",
              "      border-radius: 50%;\n",
              "      cursor: pointer;\n",
              "      display: none;\n",
              "      fill: #1967D2;\n",
              "      height: 32px;\n",
              "      padding: 0 0 0 0;\n",
              "      width: 32px;\n",
              "    }\n",
              "\n",
              "    .colab-df-convert:hover {\n",
              "      background-color: #E2EBFA;\n",
              "      box-shadow: 0px 1px 2px rgba(60, 64, 67, 0.3), 0px 1px 3px 1px rgba(60, 64, 67, 0.15);\n",
              "      fill: #174EA6;\n",
              "    }\n",
              "\n",
              "    [theme=dark] .colab-df-convert {\n",
              "      background-color: #3B4455;\n",
              "      fill: #D2E3FC;\n",
              "    }\n",
              "\n",
              "    [theme=dark] .colab-df-convert:hover {\n",
              "      background-color: #434B5C;\n",
              "      box-shadow: 0px 1px 3px 1px rgba(0, 0, 0, 0.15);\n",
              "      filter: drop-shadow(0px 1px 2px rgba(0, 0, 0, 0.3));\n",
              "      fill: #FFFFFF;\n",
              "    }\n",
              "  </style>\n",
              "\n",
              "      <script>\n",
              "        const buttonEl =\n",
              "          document.querySelector('#df-c4069ba8-895e-462c-983f-b2bbe865d6f8 button.colab-df-convert');\n",
              "        buttonEl.style.display =\n",
              "          google.colab.kernel.accessAllowed ? 'block' : 'none';\n",
              "\n",
              "        async function convertToInteractive(key) {\n",
              "          const element = document.querySelector('#df-c4069ba8-895e-462c-983f-b2bbe865d6f8');\n",
              "          const dataTable =\n",
              "            await google.colab.kernel.invokeFunction('convertToInteractive',\n",
              "                                                     [key], {});\n",
              "          if (!dataTable) return;\n",
              "\n",
              "          const docLinkHtml = 'Like what you see? Visit the ' +\n",
              "            '<a target=\"_blank\" href=https://colab.research.google.com/notebooks/data_table.ipynb>data table notebook</a>'\n",
              "            + ' to learn more about interactive tables.';\n",
              "          element.innerHTML = '';\n",
              "          dataTable['output_type'] = 'display_data';\n",
              "          await google.colab.output.renderOutput(dataTable, element);\n",
              "          const docLink = document.createElement('div');\n",
              "          docLink.innerHTML = docLinkHtml;\n",
              "          element.appendChild(docLink);\n",
              "        }\n",
              "      </script>\n",
              "    </div>\n",
              "  </div>\n",
              "  "
            ]
          },
          "metadata": {},
          "execution_count": 45
        }
      ]
    },
    {
      "cell_type": "code",
      "source": [
        ""
      ],
      "metadata": {
        "id": "B1Pct8buoeoE"
      },
      "execution_count": null,
      "outputs": []
    }
  ]
}